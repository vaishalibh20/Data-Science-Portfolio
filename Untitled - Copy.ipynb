{
 "cells": [
  {
   "cell_type": "code",
   "execution_count": 47,
   "metadata": {
    "scrolled": true
   },
   "outputs": [
    {
     "data": {
      "text/plain": [
       "<matplotlib.axes._subplots.AxesSubplot at 0x2c93c0762e8>"
      ]
     },
     "execution_count": 47,
     "metadata": {},
     "output_type": "execute_result"
    },
    {
     "data": {
      "image/png": "[encoded data removed]",
      "text/plain": [
       "<Figure size 432x288 with 1 Axes>"
      ]
     },
     "metadata": {
      "needs_background": "light"
     },
     "output_type": "display_data"
    }
   ],
   "source": [
    "sns.boxplot(x=\"default.payment.next.month\", y='LIMIT_BAL', data=df)"
   ]
  },
  {
   "cell_type": "markdown",
   "metadata": {},
   "source": [
    "On average, the amount of given credit to defaulters is less than that for non-defaulters."
   ]
  },
  {
   "cell_type": "code",
   "execution_count": 48,
   "metadata": {},
   "outputs": [],
   "source": [
    "X=df[['LIMIT_BAL', 'SEX', 'EDUCATION', 'MARRIAGE', 'AGE', 'PAY_0', 'PAY_2',\n",
    "       'PAY_3', 'PAY_4', 'PAY_5', 'PAY_6', 'BILL_AMT1', 'BILL_AMT2',\n",
    "       'BILL_AMT3', 'BILL_AMT4', 'BILL_AMT5', 'BILL_AMT6', 'PAY_AMT1',\n",
    "       'PAY_AMT2', 'PAY_AMT3', 'PAY_AMT4', 'PAY_AMT5', 'PAY_AMT6']]"
   ]
  },
  {
   "cell_type": "code",
   "execution_count": 49,
   "metadata": {},
   "outputs": [],
   "source": [
    "y=df['default.payment.next.month']"
   ]
  },
  {
   "cell_type": "code",
   "execution_count": 50,
   "metadata": {},
   "outputs": [],
   "source": [
    "X_train, X_test, y_train, y_test = train_test_split(X, y,test_size=0.3,random_state=1)"
   ]
  },
  {
   "cell_type": "markdown",
   "metadata": {},
   "source": [
    "##### K nearest neighbor"
   ]
  },
  {
   "cell_type": "code",
   "execution_count": 51,
   "metadata": {},
   "outputs": [],
   "source": [
    "knn = KNeighborsClassifier(n_neighbors=5)"
   ]
  },
  {
   "cell_type": "code",
   "execution_count": 52,
   "metadata": {},
   "outputs": [
    {
     "data": {
      "text/plain": [
       "KNeighborsClassifier(algorithm='auto', leaf_size=30, metric='minkowski',\n",
       "                     metric_params=None, n_jobs=None, n_neighbors=5, p=2,\n",
       "                     weights='uniform')"
      ]
     },
     "execution_count": 52,
     "metadata": {},
     "output_type": "execute_result"
    }
   ],
   "source": [
    "knn.fit(X_train, y_train)"
   ]
  },
  {
   "cell_type": "code",
   "execution_count": 53,
   "metadata": {},
   "outputs": [],
   "source": [
    "y_pred = knn.predict(X_test)"
   ]
  },
  {
   "cell_type": "code",
   "execution_count": 54,
   "metadata": {},
   "outputs": [
    {
     "data": {
      "text/plain": [
       "array([[6428,  572],\n",
       "       [1626,  374]], dtype=int64)"
      ]
     },
     "execution_count": 54,
     "metadata": {},
     "output_type": "execute_result"
    }
   ],
   "source": [
    "confusion_matrix(y_test, y_pred)"
   ]
  },
  {
   "cell_type": "code",
   "execution_count": 55,
   "metadata": {},
   "outputs": [],
   "source": [
    "auc = roc_auc_score(y_test, y_pred)"
   ]
  },
  {
   "cell_type": "code",
   "execution_count": 56,
   "metadata": {},
   "outputs": [
    {
     "name": "stdout",
     "output_type": "stream",
     "text": [
      "AUC: 0.55\n"
     ]
    }
   ],
   "source": [
    "print('AUC: %.2f' % auc)"
   ]
  },
  {
   "cell_type": "code",
   "execution_count": 57,
   "metadata": {},
   "outputs": [],
   "source": [
    "fpr, tpr, thresholds = roc_curve(y_test, y_pred)"
   ]
  },
  {
   "cell_type": "code",
   "execution_count": 58,
   "metadata": {},
   "outputs": [
    {
     "data": {
      "image/png": "[encoded data removed]",
      "text/plain": [
       "<Figure size 432x288 with 1 Axes>"
      ]
     },
     "metadata": {
      "needs_background": "light"
     },
     "output_type": "display_data"
    }
   ],
   "source": [
    "plt.plot([0, 1], [0, 1], linestyle='--')\n",
    "plt.plot(fpr, tpr, marker='.')\n",
    "plt.show()"
   ]
  },
  {
   "cell_type": "code",
   "execution_count": 59,
   "metadata": {},
   "outputs": [],
   "source": [
    "from sklearn.metrics import f1_score"
   ]
  },
  {
   "cell_type": "code",
   "execution_count": 60,
   "metadata": {},
   "outputs": [
    {
     "data": {
      "text/plain": [
       "0.25390359809911744"
      ]
     },
     "execution_count": 60,
     "metadata": {},
     "output_type": "execute_result"
    }
   ],
   "source": [
    "f1_score(y_true = y_test, y_pred = y_pred)"
   ]
  },
  {
   "cell_type": "markdown",
   "metadata": {},
   "source": [
    "SEE notebooks of this set.\n",
    "Read about knn in eslii and about scaling ordinal features.\n",
    "Grid search cv used in this.\n",
    "cut down parameters for the analysis.\n",
    "Do we need more parameters? engeenring.\n",
    "SEE how can we best visualise the data.\n",
    "see how the evaluation is shown best.\n",
    "Read best notebook.\n"
   ]
  },
  {
   "cell_type": "code",
   "execution_count": 61,
   "metadata": {},
   "outputs": [
    {
     "name": "stdout",
     "output_type": "stream",
     "text": [
      "Cross-validated scores: [0.75309524 0.74214286 0.74642857 0.75285714 0.76166667]\n",
      "Average Cross-validated score: 0.7512380952380953\n"
     ]
    }
   ],
   "source": [
    "scores = cross_val_score(knn,X_train, y_train, cv=5)\n",
    "print (\"Cross-validated scores:\", scores)\n",
    "print (\"Average Cross-validated score:\", scores.mean())"
   ]
  },
  {
   "cell_type": "markdown",
   "metadata": {},
   "source": [
    "###### Random Forest"
   ]
  },
  {
   "cell_type": "code",
   "execution_count": 62,
   "metadata": {},
   "outputs": [],
   "source": [
    "from sklearn.ensemble import RandomForestClassifier"
   ]
  },
  {
   "cell_type": "code",
   "execution_count": 63,
   "metadata": {},
   "outputs": [],
   "source": [
    "regr = RandomForestClassifier(max_features=7,n_estimators=10)"
   ]
  },
  {
   "cell_type": "code",
   "execution_count": 64,
   "metadata": {},
   "outputs": [],
   "source": [
    "import sklearn"
   ]
  },
  {
   "cell_type": "code",
   "execution_count": 65,
   "metadata": {},
   "outputs": [],
   "source": [
    "regr=regr.fit(X_train,y_train)"
   ]
  },
  {
   "cell_type": "code",
   "execution_count": 66,
   "metadata": {
    "scrolled": true
   },
   "outputs": [
    {
     "data": {
      "text/plain": [
       "['accuracy',\n",
       " 'adjusted_mutual_info_score',\n",
       " 'adjusted_rand_score',\n",
       " 'average_precision',\n",
       " 'balanced_accuracy',\n",
       " 'completeness_score',\n",
       " 'explained_variance',\n",
       " 'f1',\n",
       " 'f1_macro',\n",
       " 'f1_micro',\n",
       " 'f1_samples',\n",
       " 'f1_weighted',\n",
       " 'fowlkes_mallows_score',\n",
       " 'homogeneity_score',\n",
       " 'jaccard',\n",
       " 'jaccard_macro',\n",
       " 'jaccard_micro',\n",
       " 'jaccard_samples',\n",
       " 'jaccard_weighted',\n",
       " 'max_error',\n",
       " 'mutual_info_score',\n",
       " 'neg_brier_score',\n",
       " 'neg_log_loss',\n",
       " 'neg_mean_absolute_error',\n",
       " 'neg_mean_gamma_deviance',\n",
       " 'neg_mean_poisson_deviance',\n",
       " 'neg_mean_squared_error',\n",
       " 'neg_mean_squared_log_error',\n",
       " 'neg_median_absolute_error',\n",
       " 'neg_root_mean_squared_error',\n",
       " 'normalized_mutual_info_score',\n",
       " 'precision',\n",
       " 'precision_macro',\n",
       " 'precision_micro',\n",
       " 'precision_samples',\n",
       " 'precision_weighted',\n",
       " 'r2',\n",
       " 'recall',\n",
       " 'recall_macro',\n",
       " 'recall_micro',\n",
       " 'recall_samples',\n",
       " 'recall_weighted',\n",
       " 'roc_auc',\n",
       " 'roc_auc_ovo',\n",
       " 'roc_auc_ovo_weighted',\n",
       " 'roc_auc_ovr',\n",
       " 'roc_auc_ovr_weighted',\n",
       " 'v_measure_score']"
      ]
     },
     "execution_count": 66,
     "metadata": {},
     "output_type": "execute_result"
    }
   ],
   "source": [
    "sorted(sklearn.metrics.SCORERS.keys())"
   ]
  },
  {
   "cell_type": "code",
   "execution_count": 67,
   "metadata": {},
   "outputs": [],
   "source": [
    "rfpred=regr.predict(X_test)"
   ]
  },
  {
   "cell_type": "code",
   "execution_count": 68,
   "metadata": {},
   "outputs": [
    {
     "data": {
      "text/plain": [
       "0.8054444444444444"
      ]
     },
     "execution_count": 68,
     "metadata": {},
     "output_type": "execute_result"
    }
   ],
   "source": [
    "accuracy_score(y_test,rfpred)"
   ]
  },
  {
   "cell_type": "code",
   "execution_count": 69,
   "metadata": {},
   "outputs": [
    {
     "data": {
      "text/plain": [
       "array([[6583,  417],\n",
       "       [1334,  666]], dtype=int64)"
      ]
     },
     "execution_count": 69,
     "metadata": {},
     "output_type": "execute_result"
    }
   ],
   "source": [
    "confusion_matrix(y_test, rfpred)"
   ]
  },
  {
   "cell_type": "code",
   "execution_count": 70,
   "metadata": {},
   "outputs": [],
   "source": [
    "auc1 = roc_auc_score(y_test, rfpred)"
   ]
  },
  {
   "cell_type": "code",
   "execution_count": 71,
   "metadata": {},
   "outputs": [
    {
     "data": {
      "text/plain": [
       "0.6367142857142857"
      ]
     },
     "execution_count": 71,
     "metadata": {},
     "output_type": "execute_result"
    }
   ],
   "source": [
    "auc1"
   ]
  },
  {
   "cell_type": "code",
   "execution_count": 72,
   "metadata": {},
   "outputs": [
    {
     "data": {
      "text/plain": [
       "(30000, 25)"
      ]
     },
     "execution_count": 72,
     "metadata": {},
     "output_type": "execute_result"
    }
   ],
   "source": [
    "df.shape"
   ]
  },
  {
   "cell_type": "code",
   "execution_count": 73,
   "metadata": {},
   "outputs": [
    {
     "data": {
      "image/png": "[encoded data removed]",
      "text/plain": [
       "<Figure size 432x288 with 1 Axes>"
      ]
     },
     "metadata": {
      "needs_background": "light"
     },
     "output_type": "display_data"
    }
   ],
   "source": [
    "fpr, tpr, thresholds = roc_curve(y_test,rfpred)\n",
    "plt.plot([0, 1], [0, 1], linestyle='--')\n",
    "plt.plot(fpr, tpr, marker='.')\n",
    "plt.show()"
   ]
  },
  {
   "cell_type": "code",
   "execution_count": 74,
   "metadata": {},
   "outputs": [
    {
     "name": "stdout",
     "output_type": "stream",
     "text": [
      "Cross-validated scores: [0.805      0.79380952 0.80595238 0.80571429 0.81690476]\n",
      "Average Cross-validated score: 0.8054761904761906\n"
     ]
    }
   ],
   "source": [
    "scores = cross_val_score(regr,X_train, y_train, cv=5)\n",
    "print (\"Cross-validated scores:\", scores)\n",
    "print (\"Average Cross-validated score:\", scores.mean())"
   ]
  },
  {
   "cell_type": "code",
   "execution_count": 75,
   "metadata": {},
   "outputs": [
    {
     "data": {
      "text/plain": [
       "array([0.05617851, 0.01261807, 0.02228786, 0.01377523, 0.06855773,\n",
       "       0.11390156, 0.05259705, 0.01750087, 0.01980906, 0.01635733,\n",
       "       0.01838333, 0.063399  , 0.05168462, 0.04994402, 0.04660778,\n",
       "       0.0471128 , 0.04796456, 0.05400255, 0.04432478, 0.04977078,\n",
       "       0.04388111, 0.04345605, 0.04588534])"
      ]
     },
     "execution_count": 75,
     "metadata": {},
     "output_type": "execute_result"
    }
   ],
   "source": [
    "regr.feature_importances_"
   ]
  },
  {
   "cell_type": "code",
   "execution_count": 76,
   "metadata": {},
   "outputs": [
    {
     "data": {
      "text/html": [
       "<div>\n",
       "<style scoped>\n",
       "    .dataframe tbody tr th:only-of-type {\n",
       "        vertical-align: middle;\n",
       "    }\n",
       "\n",
       "    .dataframe tbody tr th {\n",
       "        vertical-align: top;\n",
       "    }\n",
       "\n",
       "    .dataframe thead th {\n",
       "        text-align: right;\n",
       "    }\n",
       "</style>\n",
       "<table border=\"1\" class=\"dataframe\">\n",
       "  <thead>\n",
       "    <tr style=\"text-align: right;\">\n",
       "      <th></th>\n",
       "      <th>LIMIT_BAL</th>\n",
       "      <th>SEX</th>\n",
       "      <th>EDUCATION</th>\n",
       "      <th>MARRIAGE</th>\n",
       "      <th>AGE</th>\n",
       "      <th>PAY_0</th>\n",
       "      <th>PAY_2</th>\n",
       "      <th>PAY_3</th>\n",
       "      <th>PAY_4</th>\n",
       "      <th>PAY_5</th>\n",
       "      <th>...</th>\n",
       "      <th>BILL_AMT3</th>\n",
       "      <th>BILL_AMT4</th>\n",
       "      <th>BILL_AMT5</th>\n",
       "      <th>BILL_AMT6</th>\n",
       "      <th>PAY_AMT1</th>\n",
       "      <th>PAY_AMT2</th>\n",
       "      <th>PAY_AMT3</th>\n",
       "      <th>PAY_AMT4</th>\n",
       "      <th>PAY_AMT5</th>\n",
       "      <th>PAY_AMT6</th>\n",
       "    </tr>\n",
       "    <tr>\n",
       "      <th>ID</th>\n",
       "      <th></th>\n",
       "      <th></th>\n",
       "      <th></th>\n",
       "      <th></th>\n",
       "      <th></th>\n",
       "      <th></th>\n",
       "      <th></th>\n",
       "      <th></th>\n",
       "      <th></th>\n",
       "      <th></th>\n",
       "      <th></th>\n",
       "      <th></th>\n",
       "      <th></th>\n",
       "      <th></th>\n",
       "      <th></th>\n",
       "      <th></th>\n",
       "      <th></th>\n",
       "      <th></th>\n",
       "      <th></th>\n",
       "      <th></th>\n",
       "      <th></th>\n",
       "    </tr>\n",
       "  </thead>\n",
       "  <tbody>\n",
       "    <tr>\n",
       "      <th>1</th>\n",
       "      <td>20000.0</td>\n",
       "      <td>2</td>\n",
       "      <td>2</td>\n",
       "      <td>1</td>\n",
       "      <td>24</td>\n",
       "      <td>2</td>\n",
       "      <td>2</td>\n",
       "      <td>-1</td>\n",
       "      <td>-1</td>\n",
       "      <td>-2</td>\n",
       "      <td>...</td>\n",
       "      <td>689.0</td>\n",
       "      <td>0.0</td>\n",
       "      <td>0.0</td>\n",
       "      <td>0.0</td>\n",
       "      <td>0.0</td>\n",
       "      <td>689.0</td>\n",
       "      <td>0.0</td>\n",
       "      <td>0.0</td>\n",
       "      <td>0.0</td>\n",
       "      <td>0.0</td>\n",
       "    </tr>\n",
       "    <tr>\n",
       "      <th>2</th>\n",
       "      <td>120000.0</td>\n",
       "      <td>2</td>\n",
       "      <td>2</td>\n",
       "      <td>2</td>\n",
       "      <td>26</td>\n",
       "      <td>-1</td>\n",
       "      <td>2</td>\n",
       "      <td>0</td>\n",
       "      <td>0</td>\n",
       "      <td>0</td>\n",
       "      <td>...</td>\n",
       "      <td>2682.0</td>\n",
       "      <td>3272.0</td>\n",
       "      <td>3455.0</td>\n",
       "      <td>3261.0</td>\n",
       "      <td>0.0</td>\n",
       "      <td>1000.0</td>\n",
       "      <td>1000.0</td>\n",
       "      <td>1000.0</td>\n",
       "      <td>0.0</td>\n",
       "      <td>2000.0</td>\n",
       "    </tr>\n",
       "    <tr>\n",
       "      <th>3</th>\n",
       "      <td>90000.0</td>\n",
       "      <td>2</td>\n",
       "      <td>2</td>\n",
       "      <td>2</td>\n",
       "      <td>34</td>\n",
       "      <td>0</td>\n",
       "      <td>0</td>\n",
       "      <td>0</td>\n",
       "      <td>0</td>\n",
       "      <td>0</td>\n",
       "      <td>...</td>\n",
       "      <td>13559.0</td>\n",
       "      <td>14331.0</td>\n",
       "      <td>14948.0</td>\n",
       "      <td>15549.0</td>\n",
       "      <td>1518.0</td>\n",
       "      <td>1500.0</td>\n",
       "      <td>1000.0</td>\n",
       "      <td>1000.0</td>\n",
       "      <td>1000.0</td>\n",
       "      <td>5000.0</td>\n",
       "    </tr>\n",
       "    <tr>\n",
       "      <th>4</th>\n",
       "      <td>50000.0</td>\n",
       "      <td>2</td>\n",
       "      <td>2</td>\n",
       "      <td>1</td>\n",
       "      <td>37</td>\n",
       "      <td>0</td>\n",
       "      <td>0</td>\n",
       "      <td>0</td>\n",
       "      <td>0</td>\n",
       "      <td>0</td>\n",
       "      <td>...</td>\n",
       "      <td>49291.0</td>\n",
       "      <td>28314.0</td>\n",
       "      <td>28959.0</td>\n",
       "      <td>29547.0</td>\n",
       "      <td>2000.0</td>\n",
       "      <td>2019.0</td>\n",
       "      <td>1200.0</td>\n",
       "      <td>1100.0</td>\n",
       "      <td>1069.0</td>\n",
       "      <td>1000.0</td>\n",
       "    </tr>\n",
       "    <tr>\n",
       "      <th>5</th>\n",
       "      <td>50000.0</td>\n",
       "      <td>1</td>\n",
       "      <td>2</td>\n",
       "      <td>1</td>\n",
       "      <td>57</td>\n",
       "      <td>-1</td>\n",
       "      <td>0</td>\n",
       "      <td>-1</td>\n",
       "      <td>0</td>\n",
       "      <td>0</td>\n",
       "      <td>...</td>\n",
       "      <td>35835.0</td>\n",
       "      <td>20940.0</td>\n",
       "      <td>19146.0</td>\n",
       "      <td>19131.0</td>\n",
       "      <td>2000.0</td>\n",
       "      <td>36681.0</td>\n",
       "      <td>10000.0</td>\n",
       "      <td>9000.0</td>\n",
       "      <td>689.0</td>\n",
       "      <td>679.0</td>\n",
       "    </tr>\n",
       "    <tr>\n",
       "      <th>6</th>\n",
       "      <td>50000.0</td>\n",
       "      <td>1</td>\n",
       "      <td>1</td>\n",
       "      <td>2</td>\n",
       "      <td>37</td>\n",
       "      <td>0</td>\n",
       "      <td>0</td>\n",
       "      <td>0</td>\n",
       "      <td>0</td>\n",
       "      <td>0</td>\n",
       "      <td>...</td>\n",
       "      <td>57608.0</td>\n",
       "      <td>19394.0</td>\n",
       "      <td>19619.0</td>\n",
       "      <td>20024.0</td>\n",
       "      <td>2500.0</td>\n",
       "      <td>1815.0</td>\n",
       "      <td>657.0</td>\n",
       "      <td>1000.0</td>\n",
       "      <td>1000.0</td>\n",
       "      <td>800.0</td>\n",
       "    </tr>\n",
       "    <tr>\n",
       "      <th>7</th>\n",
       "      <td>500000.0</td>\n",
       "      <td>1</td>\n",
       "      <td>1</td>\n",
       "      <td>2</td>\n",
       "      <td>29</td>\n",
       "      <td>0</td>\n",
       "      <td>0</td>\n",
       "      <td>0</td>\n",
       "      <td>0</td>\n",
       "      <td>0</td>\n",
       "      <td>...</td>\n",
       "      <td>445007.0</td>\n",
       "      <td>542653.0</td>\n",
       "      <td>483003.0</td>\n",
       "      <td>473944.0</td>\n",
       "      <td>55000.0</td>\n",
       "      <td>40000.0</td>\n",
       "      <td>38000.0</td>\n",
       "      <td>20239.0</td>\n",
       "      <td>13750.0</td>\n",
       "      <td>13770.0</td>\n",
       "    </tr>\n",
       "    <tr>\n",
       "      <th>8</th>\n",
       "      <td>100000.0</td>\n",
       "      <td>2</td>\n",
       "      <td>2</td>\n",
       "      <td>2</td>\n",
       "      <td>23</td>\n",
       "      <td>0</td>\n",
       "      <td>-1</td>\n",
       "      <td>-1</td>\n",
       "      <td>0</td>\n",
       "      <td>0</td>\n",
       "      <td>...</td>\n",
       "      <td>601.0</td>\n",
       "      <td>221.0</td>\n",
       "      <td>-159.0</td>\n",
       "      <td>567.0</td>\n",
       "      <td>380.0</td>\n",
       "      <td>601.0</td>\n",
       "      <td>0.0</td>\n",
       "      <td>581.0</td>\n",
       "      <td>1687.0</td>\n",
       "      <td>1542.0</td>\n",
       "    </tr>\n",
       "    <tr>\n",
       "      <th>9</th>\n",
       "      <td>140000.0</td>\n",
       "      <td>2</td>\n",
       "      <td>3</td>\n",
       "      <td>1</td>\n",
       "      <td>28</td>\n",
       "      <td>0</td>\n",
       "      <td>0</td>\n",
       "      <td>2</td>\n",
       "      <td>0</td>\n",
       "      <td>0</td>\n",
       "      <td>...</td>\n",
       "      <td>12108.0</td>\n",
       "      <td>12211.0</td>\n",
       "      <td>11793.0</td>\n",
       "      <td>3719.0</td>\n",
       "      <td>3329.0</td>\n",
       "      <td>0.0</td>\n",
       "      <td>432.0</td>\n",
       "      <td>1000.0</td>\n",
       "      <td>1000.0</td>\n",
       "      <td>1000.0</td>\n",
       "    </tr>\n",
       "    <tr>\n",
       "      <th>10</th>\n",
       "      <td>20000.0</td>\n",
       "      <td>1</td>\n",
       "      <td>3</td>\n",
       "      <td>2</td>\n",
       "      <td>35</td>\n",
       "      <td>-2</td>\n",
       "      <td>-2</td>\n",
       "      <td>-2</td>\n",
       "      <td>-2</td>\n",
       "      <td>-1</td>\n",
       "      <td>...</td>\n",
       "      <td>0.0</td>\n",
       "      <td>0.0</td>\n",
       "      <td>13007.0</td>\n",
       "      <td>13912.0</td>\n",
       "      <td>0.0</td>\n",
       "      <td>0.0</td>\n",
       "      <td>0.0</td>\n",
       "      <td>13007.0</td>\n",
       "      <td>1122.0</td>\n",
       "      <td>0.0</td>\n",
       "    </tr>\n",
       "    <tr>\n",
       "      <th>11</th>\n",
       "      <td>200000.0</td>\n",
       "      <td>2</td>\n",
       "      <td>3</td>\n",
       "      <td>2</td>\n",
       "      <td>34</td>\n",
       "      <td>0</td>\n",
       "      <td>0</td>\n",
       "      <td>2</td>\n",
       "      <td>0</td>\n",
       "      <td>0</td>\n",
       "      <td>...</td>\n",
       "      <td>5535.0</td>\n",
       "      <td>2513.0</td>\n",
       "      <td>1828.0</td>\n",
       "      <td>3731.0</td>\n",
       "      <td>2306.0</td>\n",
       "      <td>12.0</td>\n",
       "      <td>50.0</td>\n",
       "      <td>300.0</td>\n",
       "      <td>3738.0</td>\n",
       "      <td>66.0</td>\n",
       "    </tr>\n",
       "    <tr>\n",
       "      <th>12</th>\n",
       "      <td>260000.0</td>\n",
       "      <td>2</td>\n",
       "      <td>1</td>\n",
       "      <td>2</td>\n",
       "      <td>51</td>\n",
       "      <td>-1</td>\n",
       "      <td>-1</td>\n",
       "      <td>-1</td>\n",
       "      <td>-1</td>\n",
       "      <td>-1</td>\n",
       "      <td>...</td>\n",
       "      <td>9966.0</td>\n",
       "      <td>8517.0</td>\n",
       "      <td>22287.0</td>\n",
       "      <td>13668.0</td>\n",
       "      <td>21818.0</td>\n",
       "      <td>9966.0</td>\n",
       "      <td>8583.0</td>\n",
       "      <td>22301.0</td>\n",
       "      <td>0.0</td>\n",
       "      <td>3640.0</td>\n",
       "    </tr>\n",
       "    <tr>\n",
       "      <th>13</th>\n",
       "      <td>630000.0</td>\n",
       "      <td>2</td>\n",
       "      <td>2</td>\n",
       "      <td>2</td>\n",
       "      <td>41</td>\n",
       "      <td>-1</td>\n",
       "      <td>0</td>\n",
       "      <td>-1</td>\n",
       "      <td>-1</td>\n",
       "      <td>-1</td>\n",
       "      <td>...</td>\n",
       "      <td>6500.0</td>\n",
       "      <td>6500.0</td>\n",
       "      <td>6500.0</td>\n",
       "      <td>2870.0</td>\n",
       "      <td>1000.0</td>\n",
       "      <td>6500.0</td>\n",
       "      <td>6500.0</td>\n",
       "      <td>6500.0</td>\n",
       "      <td>2870.0</td>\n",
       "      <td>0.0</td>\n",
       "    </tr>\n",
       "    <tr>\n",
       "      <th>14</th>\n",
       "      <td>70000.0</td>\n",
       "      <td>1</td>\n",
       "      <td>2</td>\n",
       "      <td>2</td>\n",
       "      <td>30</td>\n",
       "      <td>1</td>\n",
       "      <td>2</td>\n",
       "      <td>2</td>\n",
       "      <td>0</td>\n",
       "      <td>0</td>\n",
       "      <td>...</td>\n",
       "      <td>65701.0</td>\n",
       "      <td>66782.0</td>\n",
       "      <td>36137.0</td>\n",
       "      <td>36894.0</td>\n",
       "      <td>3200.0</td>\n",
       "      <td>0.0</td>\n",
       "      <td>3000.0</td>\n",
       "      <td>3000.0</td>\n",
       "      <td>1500.0</td>\n",
       "      <td>0.0</td>\n",
       "    </tr>\n",
       "    <tr>\n",
       "      <th>15</th>\n",
       "      <td>250000.0</td>\n",
       "      <td>1</td>\n",
       "      <td>1</td>\n",
       "      <td>2</td>\n",
       "      <td>29</td>\n",
       "      <td>0</td>\n",
       "      <td>0</td>\n",
       "      <td>0</td>\n",
       "      <td>0</td>\n",
       "      <td>0</td>\n",
       "      <td>...</td>\n",
       "      <td>63561.0</td>\n",
       "      <td>59696.0</td>\n",
       "      <td>56875.0</td>\n",
       "      <td>55512.0</td>\n",
       "      <td>3000.0</td>\n",
       "      <td>3000.0</td>\n",
       "      <td>3000.0</td>\n",
       "      <td>3000.0</td>\n",
       "      <td>3000.0</td>\n",
       "      <td>3000.0</td>\n",
       "    </tr>\n",
       "    <tr>\n",
       "      <th>16</th>\n",
       "      <td>50000.0</td>\n",
       "      <td>2</td>\n",
       "      <td>3</td>\n",
       "      <td>3</td>\n",
       "      <td>23</td>\n",
       "      <td>1</td>\n",
       "      <td>2</td>\n",
       "      <td>0</td>\n",
       "      <td>0</td>\n",
       "      <td>0</td>\n",
       "      <td>...</td>\n",
       "      <td>28116.0</td>\n",
       "      <td>28771.0</td>\n",
       "      <td>29531.0</td>\n",
       "      <td>30211.0</td>\n",
       "      <td>0.0</td>\n",
       "      <td>1500.0</td>\n",
       "      <td>1100.0</td>\n",
       "      <td>1200.0</td>\n",
       "      <td>1300.0</td>\n",
       "      <td>1100.0</td>\n",
       "    </tr>\n",
       "    <tr>\n",
       "      <th>17</th>\n",
       "      <td>20000.0</td>\n",
       "      <td>1</td>\n",
       "      <td>1</td>\n",
       "      <td>2</td>\n",
       "      <td>24</td>\n",
       "      <td>0</td>\n",
       "      <td>0</td>\n",
       "      <td>2</td>\n",
       "      <td>2</td>\n",
       "      <td>2</td>\n",
       "      <td>...</td>\n",
       "      <td>17428.0</td>\n",
       "      <td>18338.0</td>\n",
       "      <td>17905.0</td>\n",
       "      <td>19104.0</td>\n",
       "      <td>3200.0</td>\n",
       "      <td>0.0</td>\n",
       "      <td>1500.0</td>\n",
       "      <td>0.0</td>\n",
       "      <td>1650.0</td>\n",
       "      <td>0.0</td>\n",
       "    </tr>\n",
       "    <tr>\n",
       "      <th>18</th>\n",
       "      <td>320000.0</td>\n",
       "      <td>1</td>\n",
       "      <td>1</td>\n",
       "      <td>1</td>\n",
       "      <td>49</td>\n",
       "      <td>0</td>\n",
       "      <td>0</td>\n",
       "      <td>0</td>\n",
       "      <td>-1</td>\n",
       "      <td>-1</td>\n",
       "      <td>...</td>\n",
       "      <td>194663.0</td>\n",
       "      <td>70074.0</td>\n",
       "      <td>5856.0</td>\n",
       "      <td>195599.0</td>\n",
       "      <td>10358.0</td>\n",
       "      <td>10000.0</td>\n",
       "      <td>75940.0</td>\n",
       "      <td>20000.0</td>\n",
       "      <td>195599.0</td>\n",
       "      <td>50000.0</td>\n",
       "    </tr>\n",
       "    <tr>\n",
       "      <th>19</th>\n",
       "      <td>360000.0</td>\n",
       "      <td>2</td>\n",
       "      <td>1</td>\n",
       "      <td>1</td>\n",
       "      <td>49</td>\n",
       "      <td>1</td>\n",
       "      <td>-2</td>\n",
       "      <td>-2</td>\n",
       "      <td>-2</td>\n",
       "      <td>-2</td>\n",
       "      <td>...</td>\n",
       "      <td>0.0</td>\n",
       "      <td>0.0</td>\n",
       "      <td>0.0</td>\n",
       "      <td>0.0</td>\n",
       "      <td>0.0</td>\n",
       "      <td>0.0</td>\n",
       "      <td>0.0</td>\n",
       "      <td>0.0</td>\n",
       "      <td>0.0</td>\n",
       "      <td>0.0</td>\n",
       "    </tr>\n",
       "    <tr>\n",
       "      <th>20</th>\n",
       "      <td>180000.0</td>\n",
       "      <td>2</td>\n",
       "      <td>1</td>\n",
       "      <td>2</td>\n",
       "      <td>29</td>\n",
       "      <td>1</td>\n",
       "      <td>-2</td>\n",
       "      <td>-2</td>\n",
       "      <td>-2</td>\n",
       "      <td>-2</td>\n",
       "      <td>...</td>\n",
       "      <td>0.0</td>\n",
       "      <td>0.0</td>\n",
       "      <td>0.0</td>\n",
       "      <td>0.0</td>\n",
       "      <td>0.0</td>\n",
       "      <td>0.0</td>\n",
       "      <td>0.0</td>\n",
       "      <td>0.0</td>\n",
       "      <td>0.0</td>\n",
       "      <td>0.0</td>\n",
       "    </tr>\n",
       "    <tr>\n",
       "      <th>21</th>\n",
       "      <td>130000.0</td>\n",
       "      <td>2</td>\n",
       "      <td>3</td>\n",
       "      <td>2</td>\n",
       "      <td>39</td>\n",
       "      <td>0</td>\n",
       "      <td>0</td>\n",
       "      <td>0</td>\n",
       "      <td>0</td>\n",
       "      <td>0</td>\n",
       "      <td>...</td>\n",
       "      <td>24489.0</td>\n",
       "      <td>20616.0</td>\n",
       "      <td>11802.0</td>\n",
       "      <td>930.0</td>\n",
       "      <td>3000.0</td>\n",
       "      <td>1537.0</td>\n",
       "      <td>1000.0</td>\n",
       "      <td>2000.0</td>\n",
       "      <td>930.0</td>\n",
       "      <td>33764.0</td>\n",
       "    </tr>\n",
       "    <tr>\n",
       "      <th>22</th>\n",
       "      <td>120000.0</td>\n",
       "      <td>2</td>\n",
       "      <td>2</td>\n",
       "      <td>1</td>\n",
       "      <td>39</td>\n",
       "      <td>-1</td>\n",
       "      <td>-1</td>\n",
       "      <td>-1</td>\n",
       "      <td>-1</td>\n",
       "      <td>-1</td>\n",
       "      <td>...</td>\n",
       "      <td>316.0</td>\n",
       "      <td>0.0</td>\n",
       "      <td>632.0</td>\n",
       "      <td>316.0</td>\n",
       "      <td>316.0</td>\n",
       "      <td>316.0</td>\n",
       "      <td>0.0</td>\n",
       "      <td>632.0</td>\n",
       "      <td>316.0</td>\n",
       "      <td>0.0</td>\n",
       "    </tr>\n",
       "    <tr>\n",
       "      <th>23</th>\n",
       "      <td>70000.0</td>\n",
       "      <td>2</td>\n",
       "      <td>2</td>\n",
       "      <td>2</td>\n",
       "      <td>26</td>\n",
       "      <td>2</td>\n",
       "      <td>0</td>\n",
       "      <td>0</td>\n",
       "      <td>2</td>\n",
       "      <td>2</td>\n",
       "      <td>...</td>\n",
       "      <td>45020.0</td>\n",
       "      <td>44006.0</td>\n",
       "      <td>46905.0</td>\n",
       "      <td>46012.0</td>\n",
       "      <td>2007.0</td>\n",
       "      <td>3582.0</td>\n",
       "      <td>0.0</td>\n",
       "      <td>3601.0</td>\n",
       "      <td>0.0</td>\n",
       "      <td>1820.0</td>\n",
       "    </tr>\n",
       "    <tr>\n",
       "      <th>24</th>\n",
       "      <td>450000.0</td>\n",
       "      <td>2</td>\n",
       "      <td>1</td>\n",
       "      <td>1</td>\n",
       "      <td>40</td>\n",
       "      <td>-2</td>\n",
       "      <td>-2</td>\n",
       "      <td>-2</td>\n",
       "      <td>-2</td>\n",
       "      <td>-2</td>\n",
       "      <td>...</td>\n",
       "      <td>1473.0</td>\n",
       "      <td>560.0</td>\n",
       "      <td>0.0</td>\n",
       "      <td>0.0</td>\n",
       "      <td>19428.0</td>\n",
       "      <td>1473.0</td>\n",
       "      <td>560.0</td>\n",
       "      <td>0.0</td>\n",
       "      <td>0.0</td>\n",
       "      <td>1128.0</td>\n",
       "    </tr>\n",
       "    <tr>\n",
       "      <th>25</th>\n",
       "      <td>90000.0</td>\n",
       "      <td>1</td>\n",
       "      <td>1</td>\n",
       "      <td>2</td>\n",
       "      <td>23</td>\n",
       "      <td>0</td>\n",
       "      <td>0</td>\n",
       "      <td>0</td>\n",
       "      <td>-1</td>\n",
       "      <td>0</td>\n",
       "      <td>...</td>\n",
       "      <td>0.0</td>\n",
       "      <td>5398.0</td>\n",
       "      <td>6360.0</td>\n",
       "      <td>8292.0</td>\n",
       "      <td>5757.0</td>\n",
       "      <td>0.0</td>\n",
       "      <td>5398.0</td>\n",
       "      <td>1200.0</td>\n",
       "      <td>2045.0</td>\n",
       "      <td>2000.0</td>\n",
       "    </tr>\n",
       "    <tr>\n",
       "      <th>26</th>\n",
       "      <td>50000.0</td>\n",
       "      <td>1</td>\n",
       "      <td>3</td>\n",
       "      <td>2</td>\n",
       "      <td>23</td>\n",
       "      <td>0</td>\n",
       "      <td>0</td>\n",
       "      <td>0</td>\n",
       "      <td>0</td>\n",
       "      <td>0</td>\n",
       "      <td>...</td>\n",
       "      <td>36023.0</td>\n",
       "      <td>28967.0</td>\n",
       "      <td>29829.0</td>\n",
       "      <td>30046.0</td>\n",
       "      <td>1973.0</td>\n",
       "      <td>1426.0</td>\n",
       "      <td>1001.0</td>\n",
       "      <td>1432.0</td>\n",
       "      <td>1062.0</td>\n",
       "      <td>997.0</td>\n",
       "    </tr>\n",
       "    <tr>\n",
       "      <th>27</th>\n",
       "      <td>60000.0</td>\n",
       "      <td>1</td>\n",
       "      <td>1</td>\n",
       "      <td>2</td>\n",
       "      <td>27</td>\n",
       "      <td>1</td>\n",
       "      <td>-2</td>\n",
       "      <td>-1</td>\n",
       "      <td>-1</td>\n",
       "      <td>-1</td>\n",
       "      <td>...</td>\n",
       "      <td>259.0</td>\n",
       "      <td>-57.0</td>\n",
       "      <td>127.0</td>\n",
       "      <td>-189.0</td>\n",
       "      <td>0.0</td>\n",
       "      <td>1000.0</td>\n",
       "      <td>0.0</td>\n",
       "      <td>500.0</td>\n",
       "      <td>0.0</td>\n",
       "      <td>1000.0</td>\n",
       "    </tr>\n",
       "    <tr>\n",
       "      <th>28</th>\n",
       "      <td>50000.0</td>\n",
       "      <td>2</td>\n",
       "      <td>3</td>\n",
       "      <td>2</td>\n",
       "      <td>30</td>\n",
       "      <td>0</td>\n",
       "      <td>0</td>\n",
       "      <td>0</td>\n",
       "      <td>0</td>\n",
       "      <td>0</td>\n",
       "      <td>...</td>\n",
       "      <td>17163.0</td>\n",
       "      <td>17878.0</td>\n",
       "      <td>18931.0</td>\n",
       "      <td>19617.0</td>\n",
       "      <td>1300.0</td>\n",
       "      <td>1300.0</td>\n",
       "      <td>1000.0</td>\n",
       "      <td>1500.0</td>\n",
       "      <td>1000.0</td>\n",
       "      <td>1012.0</td>\n",
       "    </tr>\n",
       "    <tr>\n",
       "      <th>29</th>\n",
       "      <td>50000.0</td>\n",
       "      <td>2</td>\n",
       "      <td>3</td>\n",
       "      <td>1</td>\n",
       "      <td>47</td>\n",
       "      <td>-1</td>\n",
       "      <td>-1</td>\n",
       "      <td>-1</td>\n",
       "      <td>-1</td>\n",
       "      <td>-1</td>\n",
       "      <td>...</td>\n",
       "      <td>3416.0</td>\n",
       "      <td>2040.0</td>\n",
       "      <td>30430.0</td>\n",
       "      <td>257.0</td>\n",
       "      <td>3415.0</td>\n",
       "      <td>3421.0</td>\n",
       "      <td>2044.0</td>\n",
       "      <td>30430.0</td>\n",
       "      <td>257.0</td>\n",
       "      <td>0.0</td>\n",
       "    </tr>\n",
       "    <tr>\n",
       "      <th>30</th>\n",
       "      <td>50000.0</td>\n",
       "      <td>1</td>\n",
       "      <td>1</td>\n",
       "      <td>2</td>\n",
       "      <td>26</td>\n",
       "      <td>0</td>\n",
       "      <td>0</td>\n",
       "      <td>0</td>\n",
       "      <td>0</td>\n",
       "      <td>0</td>\n",
       "      <td>...</td>\n",
       "      <td>17496.0</td>\n",
       "      <td>17907.0</td>\n",
       "      <td>18375.0</td>\n",
       "      <td>11400.0</td>\n",
       "      <td>1500.0</td>\n",
       "      <td>1500.0</td>\n",
       "      <td>1000.0</td>\n",
       "      <td>1000.0</td>\n",
       "      <td>1600.0</td>\n",
       "      <td>0.0</td>\n",
       "    </tr>\n",
       "    <tr>\n",
       "      <th>...</th>\n",
       "      <td>...</td>\n",
       "      <td>...</td>\n",
       "      <td>...</td>\n",
       "      <td>...</td>\n",
       "      <td>...</td>\n",
       "      <td>...</td>\n",
       "      <td>...</td>\n",
       "      <td>...</td>\n",
       "      <td>...</td>\n",
       "      <td>...</td>\n",
       "      <td>...</td>\n",
       "      <td>...</td>\n",
       "      <td>...</td>\n",
       "      <td>...</td>\n",
       "      <td>...</td>\n",
       "      <td>...</td>\n",
       "      <td>...</td>\n",
       "      <td>...</td>\n",
       "      <td>...</td>\n",
       "      <td>...</td>\n",
       "      <td>...</td>\n",
       "    </tr>\n",
       "    <tr>\n",
       "      <th>29971</th>\n",
       "      <td>360000.0</td>\n",
       "      <td>1</td>\n",
       "      <td>1</td>\n",
       "      <td>1</td>\n",
       "      <td>34</td>\n",
       "      <td>-1</td>\n",
       "      <td>-1</td>\n",
       "      <td>-1</td>\n",
       "      <td>0</td>\n",
       "      <td>0</td>\n",
       "      <td>...</td>\n",
       "      <td>64069.0</td>\n",
       "      <td>49005.0</td>\n",
       "      <td>8676.0</td>\n",
       "      <td>19487.0</td>\n",
       "      <td>52951.0</td>\n",
       "      <td>64535.0</td>\n",
       "      <td>8907.0</td>\n",
       "      <td>53.0</td>\n",
       "      <td>19584.0</td>\n",
       "      <td>16080.0</td>\n",
       "    </tr>\n",
       "    <tr>\n",
       "      <th>29972</th>\n",
       "      <td>80000.0</td>\n",
       "      <td>1</td>\n",
       "      <td>3</td>\n",
       "      <td>1</td>\n",
       "      <td>36</td>\n",
       "      <td>0</td>\n",
       "      <td>0</td>\n",
       "      <td>0</td>\n",
       "      <td>0</td>\n",
       "      <td>0</td>\n",
       "      <td>...</td>\n",
       "      <td>68279.0</td>\n",
       "      <td>69674.0</td>\n",
       "      <td>71070.0</td>\n",
       "      <td>73612.0</td>\n",
       "      <td>2395.0</td>\n",
       "      <td>2500.0</td>\n",
       "      <td>2530.0</td>\n",
       "      <td>2556.0</td>\n",
       "      <td>3700.0</td>\n",
       "      <td>3000.0</td>\n",
       "    </tr>\n",
       "    <tr>\n",
       "      <th>29973</th>\n",
       "      <td>190000.0</td>\n",
       "      <td>1</td>\n",
       "      <td>1</td>\n",
       "      <td>1</td>\n",
       "      <td>37</td>\n",
       "      <td>0</td>\n",
       "      <td>0</td>\n",
       "      <td>0</td>\n",
       "      <td>0</td>\n",
       "      <td>0</td>\n",
       "      <td>...</td>\n",
       "      <td>5869.0</td>\n",
       "      <td>29223.0</td>\n",
       "      <td>19616.0</td>\n",
       "      <td>148482.0</td>\n",
       "      <td>2000.0</td>\n",
       "      <td>3869.0</td>\n",
       "      <td>25128.0</td>\n",
       "      <td>10115.0</td>\n",
       "      <td>148482.0</td>\n",
       "      <td>4800.0</td>\n",
       "    </tr>\n",
       "    <tr>\n",
       "      <th>29974</th>\n",
       "      <td>230000.0</td>\n",
       "      <td>1</td>\n",
       "      <td>2</td>\n",
       "      <td>1</td>\n",
       "      <td>35</td>\n",
       "      <td>1</td>\n",
       "      <td>-2</td>\n",
       "      <td>-2</td>\n",
       "      <td>-2</td>\n",
       "      <td>-2</td>\n",
       "      <td>...</td>\n",
       "      <td>0.0</td>\n",
       "      <td>0.0</td>\n",
       "      <td>0.0</td>\n",
       "      <td>0.0</td>\n",
       "      <td>0.0</td>\n",
       "      <td>0.0</td>\n",
       "      <td>0.0</td>\n",
       "      <td>0.0</td>\n",
       "      <td>0.0</td>\n",
       "      <td>0.0</td>\n",
       "    </tr>\n",
       "    <tr>\n",
       "      <th>29975</th>\n",
       "      <td>50000.0</td>\n",
       "      <td>1</td>\n",
       "      <td>2</td>\n",
       "      <td>1</td>\n",
       "      <td>37</td>\n",
       "      <td>1</td>\n",
       "      <td>2</td>\n",
       "      <td>2</td>\n",
       "      <td>2</td>\n",
       "      <td>0</td>\n",
       "      <td>...</td>\n",
       "      <td>4328.0</td>\n",
       "      <td>2846.0</td>\n",
       "      <td>1585.0</td>\n",
       "      <td>1324.0</td>\n",
       "      <td>0.0</td>\n",
       "      <td>3000.0</td>\n",
       "      <td>0.0</td>\n",
       "      <td>0.0</td>\n",
       "      <td>1000.0</td>\n",
       "      <td>1000.0</td>\n",
       "    </tr>\n",
       "    <tr>\n",
       "      <th>29976</th>\n",
       "      <td>220000.0</td>\n",
       "      <td>1</td>\n",
       "      <td>2</td>\n",
       "      <td>1</td>\n",
       "      <td>41</td>\n",
       "      <td>0</td>\n",
       "      <td>0</td>\n",
       "      <td>-1</td>\n",
       "      <td>-1</td>\n",
       "      <td>-2</td>\n",
       "      <td>...</td>\n",
       "      <td>1369.0</td>\n",
       "      <td>5924.0</td>\n",
       "      <td>1759.0</td>\n",
       "      <td>1824.0</td>\n",
       "      <td>8840.0</td>\n",
       "      <td>6643.0</td>\n",
       "      <td>5924.0</td>\n",
       "      <td>1759.0</td>\n",
       "      <td>1824.0</td>\n",
       "      <td>7022.0</td>\n",
       "    </tr>\n",
       "    <tr>\n",
       "      <th>29977</th>\n",
       "      <td>40000.0</td>\n",
       "      <td>1</td>\n",
       "      <td>2</td>\n",
       "      <td>2</td>\n",
       "      <td>47</td>\n",
       "      <td>2</td>\n",
       "      <td>2</td>\n",
       "      <td>3</td>\n",
       "      <td>2</td>\n",
       "      <td>2</td>\n",
       "      <td>...</td>\n",
       "      <td>53415.0</td>\n",
       "      <td>51259.0</td>\n",
       "      <td>47151.0</td>\n",
       "      <td>46934.0</td>\n",
       "      <td>4000.0</td>\n",
       "      <td>0.0</td>\n",
       "      <td>2000.0</td>\n",
       "      <td>0.0</td>\n",
       "      <td>3520.0</td>\n",
       "      <td>0.0</td>\n",
       "    </tr>\n",
       "    <tr>\n",
       "      <th>29978</th>\n",
       "      <td>420000.0</td>\n",
       "      <td>1</td>\n",
       "      <td>1</td>\n",
       "      <td>2</td>\n",
       "      <td>34</td>\n",
       "      <td>0</td>\n",
       "      <td>0</td>\n",
       "      <td>0</td>\n",
       "      <td>0</td>\n",
       "      <td>0</td>\n",
       "      <td>...</td>\n",
       "      <td>140011.0</td>\n",
       "      <td>141695.0</td>\n",
       "      <td>144839.0</td>\n",
       "      <td>147954.0</td>\n",
       "      <td>7000.0</td>\n",
       "      <td>7000.0</td>\n",
       "      <td>5500.0</td>\n",
       "      <td>5500.0</td>\n",
       "      <td>5600.0</td>\n",
       "      <td>5000.0</td>\n",
       "    </tr>\n",
       "    <tr>\n",
       "      <th>29979</th>\n",
       "      <td>310000.0</td>\n",
       "      <td>1</td>\n",
       "      <td>2</td>\n",
       "      <td>1</td>\n",
       "      <td>39</td>\n",
       "      <td>0</td>\n",
       "      <td>0</td>\n",
       "      <td>0</td>\n",
       "      <td>0</td>\n",
       "      <td>0</td>\n",
       "      <td>...</td>\n",
       "      <td>233854.0</td>\n",
       "      <td>219409.0</td>\n",
       "      <td>216540.0</td>\n",
       "      <td>210675.0</td>\n",
       "      <td>10029.0</td>\n",
       "      <td>9218.0</td>\n",
       "      <td>10029.0</td>\n",
       "      <td>8049.0</td>\n",
       "      <td>8040.0</td>\n",
       "      <td>10059.0</td>\n",
       "    </tr>\n",
       "    <tr>\n",
       "      <th>29980</th>\n",
       "      <td>180000.0</td>\n",
       "      <td>1</td>\n",
       "      <td>1</td>\n",
       "      <td>1</td>\n",
       "      <td>32</td>\n",
       "      <td>-2</td>\n",
       "      <td>-2</td>\n",
       "      <td>-2</td>\n",
       "      <td>-2</td>\n",
       "      <td>-2</td>\n",
       "      <td>...</td>\n",
       "      <td>0.0</td>\n",
       "      <td>0.0</td>\n",
       "      <td>0.0</td>\n",
       "      <td>0.0</td>\n",
       "      <td>0.0</td>\n",
       "      <td>0.0</td>\n",
       "      <td>0.0</td>\n",
       "      <td>0.0</td>\n",
       "      <td>0.0</td>\n",
       "      <td>0.0</td>\n",
       "    </tr>\n",
       "    <tr>\n",
       "      <th>29981</th>\n",
       "      <td>50000.0</td>\n",
       "      <td>1</td>\n",
       "      <td>3</td>\n",
       "      <td>2</td>\n",
       "      <td>42</td>\n",
       "      <td>0</td>\n",
       "      <td>0</td>\n",
       "      <td>0</td>\n",
       "      <td>0</td>\n",
       "      <td>0</td>\n",
       "      <td>...</td>\n",
       "      <td>49397.0</td>\n",
       "      <td>50360.0</td>\n",
       "      <td>19971.0</td>\n",
       "      <td>19694.0</td>\n",
       "      <td>10000.0</td>\n",
       "      <td>4000.0</td>\n",
       "      <td>5000.0</td>\n",
       "      <td>3000.0</td>\n",
       "      <td>4500.0</td>\n",
       "      <td>2000.0</td>\n",
       "    </tr>\n",
       "    <tr>\n",
       "      <th>29982</th>\n",
       "      <td>50000.0</td>\n",
       "      <td>1</td>\n",
       "      <td>2</td>\n",
       "      <td>1</td>\n",
       "      <td>44</td>\n",
       "      <td>1</td>\n",
       "      <td>2</td>\n",
       "      <td>2</td>\n",
       "      <td>2</td>\n",
       "      <td>0</td>\n",
       "      <td>...</td>\n",
       "      <td>33101.0</td>\n",
       "      <td>28192.0</td>\n",
       "      <td>22676.0</td>\n",
       "      <td>14647.0</td>\n",
       "      <td>2300.0</td>\n",
       "      <td>1700.0</td>\n",
       "      <td>0.0</td>\n",
       "      <td>517.0</td>\n",
       "      <td>503.0</td>\n",
       "      <td>585.0</td>\n",
       "    </tr>\n",
       "    <tr>\n",
       "      <th>29983</th>\n",
       "      <td>90000.0</td>\n",
       "      <td>1</td>\n",
       "      <td>2</td>\n",
       "      <td>1</td>\n",
       "      <td>36</td>\n",
       "      <td>0</td>\n",
       "      <td>0</td>\n",
       "      <td>0</td>\n",
       "      <td>0</td>\n",
       "      <td>0</td>\n",
       "      <td>...</td>\n",
       "      <td>10306.0</td>\n",
       "      <td>11328.0</td>\n",
       "      <td>12036.0</td>\n",
       "      <td>14329.0</td>\n",
       "      <td>1500.0</td>\n",
       "      <td>1500.0</td>\n",
       "      <td>1500.0</td>\n",
       "      <td>1200.0</td>\n",
       "      <td>2500.0</td>\n",
       "      <td>0.0</td>\n",
       "    </tr>\n",
       "    <tr>\n",
       "      <th>29984</th>\n",
       "      <td>20000.0</td>\n",
       "      <td>1</td>\n",
       "      <td>2</td>\n",
       "      <td>1</td>\n",
       "      <td>44</td>\n",
       "      <td>-2</td>\n",
       "      <td>-2</td>\n",
       "      <td>-2</td>\n",
       "      <td>-2</td>\n",
       "      <td>-2</td>\n",
       "      <td>...</td>\n",
       "      <td>2712.0</td>\n",
       "      <td>2882.0</td>\n",
       "      <td>9235.0</td>\n",
       "      <td>1719.0</td>\n",
       "      <td>2890.0</td>\n",
       "      <td>2720.0</td>\n",
       "      <td>2890.0</td>\n",
       "      <td>9263.0</td>\n",
       "      <td>1824.0</td>\n",
       "      <td>1701.0</td>\n",
       "    </tr>\n",
       "    <tr>\n",
       "      <th>29985</th>\n",
       "      <td>30000.0</td>\n",
       "      <td>1</td>\n",
       "      <td>2</td>\n",
       "      <td>2</td>\n",
       "      <td>38</td>\n",
       "      <td>-1</td>\n",
       "      <td>-1</td>\n",
       "      <td>-2</td>\n",
       "      <td>-1</td>\n",
       "      <td>-1</td>\n",
       "      <td>...</td>\n",
       "      <td>2939.0</td>\n",
       "      <td>1993.0</td>\n",
       "      <td>1907.0</td>\n",
       "      <td>3319.0</td>\n",
       "      <td>923.0</td>\n",
       "      <td>2977.0</td>\n",
       "      <td>1999.0</td>\n",
       "      <td>3057.0</td>\n",
       "      <td>3319.0</td>\n",
       "      <td>1000.0</td>\n",
       "    </tr>\n",
       "    <tr>\n",
       "      <th>29986</th>\n",
       "      <td>240000.0</td>\n",
       "      <td>1</td>\n",
       "      <td>1</td>\n",
       "      <td>2</td>\n",
       "      <td>30</td>\n",
       "      <td>-2</td>\n",
       "      <td>-2</td>\n",
       "      <td>-2</td>\n",
       "      <td>-2</td>\n",
       "      <td>-2</td>\n",
       "      <td>...</td>\n",
       "      <td>0.0</td>\n",
       "      <td>0.0</td>\n",
       "      <td>0.0</td>\n",
       "      <td>0.0</td>\n",
       "      <td>0.0</td>\n",
       "      <td>0.0</td>\n",
       "      <td>0.0</td>\n",
       "      <td>0.0</td>\n",
       "      <td>0.0</td>\n",
       "      <td>0.0</td>\n",
       "    </tr>\n",
       "    <tr>\n",
       "      <th>29987</th>\n",
       "      <td>360000.0</td>\n",
       "      <td>1</td>\n",
       "      <td>1</td>\n",
       "      <td>2</td>\n",
       "      <td>35</td>\n",
       "      <td>-1</td>\n",
       "      <td>-1</td>\n",
       "      <td>-2</td>\n",
       "      <td>-2</td>\n",
       "      <td>-2</td>\n",
       "      <td>...</td>\n",
       "      <td>0.0</td>\n",
       "      <td>0.0</td>\n",
       "      <td>0.0</td>\n",
       "      <td>0.0</td>\n",
       "      <td>0.0</td>\n",
       "      <td>0.0</td>\n",
       "      <td>0.0</td>\n",
       "      <td>0.0</td>\n",
       "      <td>0.0</td>\n",
       "      <td>0.0</td>\n",
       "    </tr>\n",
       "    <tr>\n",
       "      <th>29988</th>\n",
       "      <td>130000.0</td>\n",
       "      <td>1</td>\n",
       "      <td>1</td>\n",
       "      <td>2</td>\n",
       "      <td>34</td>\n",
       "      <td>0</td>\n",
       "      <td>0</td>\n",
       "      <td>0</td>\n",
       "      <td>0</td>\n",
       "      <td>0</td>\n",
       "      <td>...</td>\n",
       "      <td>15546.0</td>\n",
       "      <td>108047.0</td>\n",
       "      <td>93708.0</td>\n",
       "      <td>97353.0</td>\n",
       "      <td>3000.0</td>\n",
       "      <td>2000.0</td>\n",
       "      <td>93000.0</td>\n",
       "      <td>4000.0</td>\n",
       "      <td>5027.0</td>\n",
       "      <td>4005.0</td>\n",
       "    </tr>\n",
       "    <tr>\n",
       "      <th>29989</th>\n",
       "      <td>250000.0</td>\n",
       "      <td>1</td>\n",
       "      <td>1</td>\n",
       "      <td>1</td>\n",
       "      <td>34</td>\n",
       "      <td>0</td>\n",
       "      <td>0</td>\n",
       "      <td>0</td>\n",
       "      <td>0</td>\n",
       "      <td>0</td>\n",
       "      <td>...</td>\n",
       "      <td>243075.0</td>\n",
       "      <td>245750.0</td>\n",
       "      <td>175005.0</td>\n",
       "      <td>179687.0</td>\n",
       "      <td>65000.0</td>\n",
       "      <td>8800.0</td>\n",
       "      <td>9011.0</td>\n",
       "      <td>6000.0</td>\n",
       "      <td>7000.0</td>\n",
       "      <td>6009.0</td>\n",
       "    </tr>\n",
       "    <tr>\n",
       "      <th>29990</th>\n",
       "      <td>150000.0</td>\n",
       "      <td>1</td>\n",
       "      <td>1</td>\n",
       "      <td>2</td>\n",
       "      <td>35</td>\n",
       "      <td>-1</td>\n",
       "      <td>-1</td>\n",
       "      <td>-1</td>\n",
       "      <td>-1</td>\n",
       "      <td>-1</td>\n",
       "      <td>...</td>\n",
       "      <td>-3.0</td>\n",
       "      <td>780.0</td>\n",
       "      <td>0.0</td>\n",
       "      <td>0.0</td>\n",
       "      <td>9054.0</td>\n",
       "      <td>0.0</td>\n",
       "      <td>783.0</td>\n",
       "      <td>0.0</td>\n",
       "      <td>0.0</td>\n",
       "      <td>0.0</td>\n",
       "    </tr>\n",
       "    <tr>\n",
       "      <th>29991</th>\n",
       "      <td>140000.0</td>\n",
       "      <td>1</td>\n",
       "      <td>2</td>\n",
       "      <td>1</td>\n",
       "      <td>41</td>\n",
       "      <td>0</td>\n",
       "      <td>0</td>\n",
       "      <td>0</td>\n",
       "      <td>0</td>\n",
       "      <td>0</td>\n",
       "      <td>...</td>\n",
       "      <td>139110.0</td>\n",
       "      <td>138262.0</td>\n",
       "      <td>49675.0</td>\n",
       "      <td>46121.0</td>\n",
       "      <td>6000.0</td>\n",
       "      <td>7000.0</td>\n",
       "      <td>4228.0</td>\n",
       "      <td>1505.0</td>\n",
       "      <td>2000.0</td>\n",
       "      <td>2000.0</td>\n",
       "    </tr>\n",
       "    <tr>\n",
       "      <th>29992</th>\n",
       "      <td>210000.0</td>\n",
       "      <td>1</td>\n",
       "      <td>2</td>\n",
       "      <td>1</td>\n",
       "      <td>34</td>\n",
       "      <td>3</td>\n",
       "      <td>2</td>\n",
       "      <td>2</td>\n",
       "      <td>2</td>\n",
       "      <td>2</td>\n",
       "      <td>...</td>\n",
       "      <td>2500.0</td>\n",
       "      <td>2500.0</td>\n",
       "      <td>2500.0</td>\n",
       "      <td>2500.0</td>\n",
       "      <td>0.0</td>\n",
       "      <td>0.0</td>\n",
       "      <td>0.0</td>\n",
       "      <td>0.0</td>\n",
       "      <td>0.0</td>\n",
       "      <td>0.0</td>\n",
       "    </tr>\n",
       "    <tr>\n",
       "      <th>29993</th>\n",
       "      <td>10000.0</td>\n",
       "      <td>1</td>\n",
       "      <td>3</td>\n",
       "      <td>1</td>\n",
       "      <td>43</td>\n",
       "      <td>0</td>\n",
       "      <td>0</td>\n",
       "      <td>0</td>\n",
       "      <td>-2</td>\n",
       "      <td>-2</td>\n",
       "      <td>...</td>\n",
       "      <td>0.0</td>\n",
       "      <td>0.0</td>\n",
       "      <td>0.0</td>\n",
       "      <td>0.0</td>\n",
       "      <td>2000.0</td>\n",
       "      <td>0.0</td>\n",
       "      <td>0.0</td>\n",
       "      <td>0.0</td>\n",
       "      <td>0.0</td>\n",
       "      <td>0.0</td>\n",
       "    </tr>\n",
       "    <tr>\n",
       "      <th>29994</th>\n",
       "      <td>100000.0</td>\n",
       "      <td>1</td>\n",
       "      <td>1</td>\n",
       "      <td>2</td>\n",
       "      <td>38</td>\n",
       "      <td>0</td>\n",
       "      <td>-1</td>\n",
       "      <td>-1</td>\n",
       "      <td>0</td>\n",
       "      <td>0</td>\n",
       "      <td>...</td>\n",
       "      <td>102996.0</td>\n",
       "      <td>70626.0</td>\n",
       "      <td>69473.0</td>\n",
       "      <td>55004.0</td>\n",
       "      <td>2000.0</td>\n",
       "      <td>111784.0</td>\n",
       "      <td>4000.0</td>\n",
       "      <td>3000.0</td>\n",
       "      <td>2000.0</td>\n",
       "      <td>2000.0</td>\n",
       "    </tr>\n",
       "    <tr>\n",
       "      <th>29995</th>\n",
       "      <td>80000.0</td>\n",
       "      <td>1</td>\n",
       "      <td>2</td>\n",
       "      <td>2</td>\n",
       "      <td>34</td>\n",
       "      <td>2</td>\n",
       "      <td>2</td>\n",
       "      <td>2</td>\n",
       "      <td>2</td>\n",
       "      <td>2</td>\n",
       "      <td>...</td>\n",
       "      <td>79384.0</td>\n",
       "      <td>77519.0</td>\n",
       "      <td>82607.0</td>\n",
       "      <td>81158.0</td>\n",
       "      <td>7000.0</td>\n",
       "      <td>3500.0</td>\n",
       "      <td>0.0</td>\n",
       "      <td>7000.0</td>\n",
       "      <td>0.0</td>\n",
       "      <td>4000.0</td>\n",
       "    </tr>\n",
       "    <tr>\n",
       "      <th>29996</th>\n",
       "      <td>220000.0</td>\n",
       "      <td>1</td>\n",
       "      <td>3</td>\n",
       "      <td>1</td>\n",
       "      <td>39</td>\n",
       "      <td>0</td>\n",
       "      <td>0</td>\n",
       "      <td>0</td>\n",
       "      <td>0</td>\n",
       "      <td>0</td>\n",
       "      <td>...</td>\n",
       "      <td>208365.0</td>\n",
       "      <td>88004.0</td>\n",
       "      <td>31237.0</td>\n",
       "      <td>15980.0</td>\n",
       "      <td>8500.0</td>\n",
       "      <td>20000.0</td>\n",
       "      <td>5003.0</td>\n",
       "      <td>3047.0</td>\n",
       "      <td>5000.0</td>\n",
       "      <td>1000.0</td>\n",
       "    </tr>\n",
       "    <tr>\n",
       "      <th>29997</th>\n",
       "      <td>150000.0</td>\n",
       "      <td>1</td>\n",
       "      <td>3</td>\n",
       "      <td>2</td>\n",
       "      <td>43</td>\n",
       "      <td>-1</td>\n",
       "      <td>-1</td>\n",
       "      <td>-1</td>\n",
       "      <td>-1</td>\n",
       "      <td>0</td>\n",
       "      <td>...</td>\n",
       "      <td>3502.0</td>\n",
       "      <td>8979.0</td>\n",
       "      <td>5190.0</td>\n",
       "      <td>0.0</td>\n",
       "      <td>1837.0</td>\n",
       "      <td>3526.0</td>\n",
       "      <td>8998.0</td>\n",
       "      <td>129.0</td>\n",
       "      <td>0.0</td>\n",
       "      <td>0.0</td>\n",
       "    </tr>\n",
       "    <tr>\n",
       "      <th>29998</th>\n",
       "      <td>30000.0</td>\n",
       "      <td>1</td>\n",
       "      <td>2</td>\n",
       "      <td>2</td>\n",
       "      <td>37</td>\n",
       "      <td>4</td>\n",
       "      <td>3</td>\n",
       "      <td>2</td>\n",
       "      <td>-1</td>\n",
       "      <td>0</td>\n",
       "      <td>...</td>\n",
       "      <td>2758.0</td>\n",
       "      <td>20878.0</td>\n",
       "      <td>20582.0</td>\n",
       "      <td>19357.0</td>\n",
       "      <td>0.0</td>\n",
       "      <td>0.0</td>\n",
       "      <td>22000.0</td>\n",
       "      <td>4200.0</td>\n",
       "      <td>2000.0</td>\n",
       "      <td>3100.0</td>\n",
       "    </tr>\n",
       "    <tr>\n",
       "      <th>29999</th>\n",
       "      <td>80000.0</td>\n",
       "      <td>1</td>\n",
       "      <td>3</td>\n",
       "      <td>1</td>\n",
       "      <td>41</td>\n",
       "      <td>1</td>\n",
       "      <td>-1</td>\n",
       "      <td>0</td>\n",
       "      <td>0</td>\n",
       "      <td>0</td>\n",
       "      <td>...</td>\n",
       "      <td>76304.0</td>\n",
       "      <td>52774.0</td>\n",
       "      <td>11855.0</td>\n",
       "      <td>48944.0</td>\n",
       "      <td>85900.0</td>\n",
       "      <td>3409.0</td>\n",
       "      <td>1178.0</td>\n",
       "      <td>1926.0</td>\n",
       "      <td>52964.0</td>\n",
       "      <td>1804.0</td>\n",
       "    </tr>\n",
       "    <tr>\n",
       "      <th>30000</th>\n",
       "      <td>50000.0</td>\n",
       "      <td>1</td>\n",
       "      <td>2</td>\n",
       "      <td>1</td>\n",
       "      <td>46</td>\n",
       "      <td>0</td>\n",
       "      <td>0</td>\n",
       "      <td>0</td>\n",
       "      <td>0</td>\n",
       "      <td>0</td>\n",
       "      <td>...</td>\n",
       "      <td>49764.0</td>\n",
       "      <td>36535.0</td>\n",
       "      <td>32428.0</td>\n",
       "      <td>15313.0</td>\n",
       "      <td>2078.0</td>\n",
       "      <td>1800.0</td>\n",
       "      <td>1430.0</td>\n",
       "      <td>1000.0</td>\n",
       "      <td>1000.0</td>\n",
       "      <td>1000.0</td>\n",
       "    </tr>\n",
       "  </tbody>\n",
       "</table>\n",
       "<p>30000 rows × 23 columns</p>\n",
       "</div>"
      ],
      "text/plain": [
       "       LIMIT_BAL  SEX  EDUCATION  MARRIAGE  AGE  PAY_0  PAY_2  PAY_3  PAY_4  \\\n",
       "ID                                                                            \n",
       "1        20000.0    2          2         1   24      2      2     -1     -1   \n",
       "2       120000.0    2          2         2   26     -1      2      0      0   \n",
       "3        90000.0    2          2         2   34      0      0      0      0   \n",
       "4        50000.0    2          2         1   37      0      0      0      0   \n",
       "5        50000.0    1          2         1   57     -1      0     -1      0   \n",
       "6        50000.0    1          1         2   37      0      0      0      0   \n",
       "7       500000.0    1          1         2   29      0      0      0      0   \n",
       "8       100000.0    2          2         2   23      0     -1     -1      0   \n",
       "9       140000.0    2          3         1   28      0      0      2      0   \n",
       "10       20000.0    1          3         2   35     -2     -2     -2     -2   \n",
       "11      200000.0    2          3         2   34      0      0      2      0   \n",
       "12      260000.0    2          1         2   51     -1     -1     -1     -1   \n",
       "13      630000.0    2          2         2   41     -1      0     -1     -1   \n",
       "14       70000.0    1          2         2   30      1      2      2      0   \n",
       "15      250000.0    1          1         2   29      0      0      0      0   \n",
       "16       50000.0    2          3         3   23      1      2      0      0   \n",
       "17       20000.0    1          1         2   24      0      0      2      2   \n",
       "18      320000.0    1          1         1   49      0      0      0     -1   \n",
       "19      360000.0    2          1         1   49      1     -2     -2     -2   \n",
       "20      180000.0    2          1         2   29      1     -2     -2     -2   \n",
       "21      130000.0    2          3         2   39      0      0      0      0   \n",
       "22      120000.0    2          2         1   39     -1     -1     -1     -1   \n",
       "23       70000.0    2          2         2   26      2      0      0      2   \n",
       "24      450000.0    2          1         1   40     -2     -2     -2     -2   \n",
       "25       90000.0    1          1         2   23      0      0      0     -1   \n",
       "26       50000.0    1          3         2   23      0      0      0      0   \n",
       "27       60000.0    1          1         2   27      1     -2     -1     -1   \n",
       "28       50000.0    2          3         2   30      0      0      0      0   \n",
       "29       50000.0    2          3         1   47     -1     -1     -1     -1   \n",
       "30       50000.0    1          1         2   26      0      0      0      0   \n",
       "...          ...  ...        ...       ...  ...    ...    ...    ...    ...   \n",
       "29971   360000.0    1          1         1   34     -1     -1     -1      0   \n",
       "29972    80000.0    1          3         1   36      0      0      0      0   \n",
       "29973   190000.0    1          1         1   37      0      0      0      0   \n",
       "29974   230000.0    1          2         1   35      1     -2     -2     -2   \n",
       "29975    50000.0    1          2         1   37      1      2      2      2   \n",
       "29976   220000.0    1          2         1   41      0      0     -1     -1   \n",
       "29977    40000.0    1          2         2   47      2      2      3      2   \n",
       "29978   420000.0    1          1         2   34      0      0      0      0   \n",
       "29979   310000.0    1          2         1   39      0      0      0      0   \n",
       "29980   180000.0    1          1         1   32     -2     -2     -2     -2   \n",
       "29981    50000.0    1          3         2   42      0      0      0      0   \n",
       "29982    50000.0    1          2         1   44      1      2      2      2   \n",
       "29983    90000.0    1          2         1   36      0      0      0      0   \n",
       "29984    20000.0    1          2         1   44     -2     -2     -2     -2   \n",
       "29985    30000.0    1          2         2   38     -1     -1     -2     -1   \n",
       "29986   240000.0    1          1         2   30     -2     -2     -2     -2   \n",
       "29987   360000.0    1          1         2   35     -1     -1     -2     -2   \n",
       "29988   130000.0    1          1         2   34      0      0      0      0   \n",
       "29989   250000.0    1          1         1   34      0      0      0      0   \n",
       "29990   150000.0    1          1         2   35     -1     -1     -1     -1   \n",
       "29991   140000.0    1          2         1   41      0      0      0      0   \n",
       "29992   210000.0    1          2         1   34      3      2      2      2   \n",
       "29993    10000.0    1          3         1   43      0      0      0     -2   \n",
       "29994   100000.0    1          1         2   38      0     -1     -1      0   \n",
       "29995    80000.0    1          2         2   34      2      2      2      2   \n",
       "29996   220000.0    1          3         1   39      0      0      0      0   \n",
       "29997   150000.0    1          3         2   43     -1     -1     -1     -1   \n",
       "29998    30000.0    1          2         2   37      4      3      2     -1   \n",
       "29999    80000.0    1          3         1   41      1     -1      0      0   \n",
       "30000    50000.0    1          2         1   46      0      0      0      0   \n",
       "\n",
       "       PAY_5  ...  BILL_AMT3  BILL_AMT4  BILL_AMT5  BILL_AMT6  PAY_AMT1  \\\n",
       "ID            ...                                                         \n",
       "1         -2  ...      689.0        0.0        0.0        0.0       0.0   \n",
       "2          0  ...     2682.0     3272.0     3455.0     3261.0       0.0   \n",
       "3          0  ...    13559.0    14331.0    14948.0    15549.0    1518.0   \n",
       "4          0  ...    49291.0    28314.0    28959.0    29547.0    2000.0   \n",
       "5          0  ...    35835.0    20940.0    19146.0    19131.0    2000.0   \n",
       "6          0  ...    57608.0    19394.0    19619.0    20024.0    2500.0   \n",
       "7          0  ...   445007.0   542653.0   483003.0   473944.0   55000.0   \n",
       "8          0  ...      601.0      221.0     -159.0      567.0     380.0   \n",
       "9          0  ...    12108.0    12211.0    11793.0     3719.0    3329.0   \n",
       "10        -1  ...        0.0        0.0    13007.0    13912.0       0.0   \n",
       "11         0  ...     5535.0     2513.0     1828.0     3731.0    2306.0   \n",
       "12        -1  ...     9966.0     8517.0    22287.0    13668.0   21818.0   \n",
       "13        -1  ...     6500.0     6500.0     6500.0     2870.0    1000.0   \n",
       "14         0  ...    65701.0    66782.0    36137.0    36894.0    3200.0   \n",
       "15         0  ...    63561.0    59696.0    56875.0    55512.0    3000.0   \n",
       "16         0  ...    28116.0    28771.0    29531.0    30211.0       0.0   \n",
       "17         2  ...    17428.0    18338.0    17905.0    19104.0    3200.0   \n",
       "18        -1  ...   194663.0    70074.0     5856.0   195599.0   10358.0   \n",
       "19        -2  ...        0.0        0.0        0.0        0.0       0.0   \n",
       "20        -2  ...        0.0        0.0        0.0        0.0       0.0   \n",
       "21         0  ...    24489.0    20616.0    11802.0      930.0    3000.0   \n",
       "22        -1  ...      316.0        0.0      632.0      316.0     316.0   \n",
       "23         2  ...    45020.0    44006.0    46905.0    46012.0    2007.0   \n",
       "24        -2  ...     1473.0      560.0        0.0        0.0   19428.0   \n",
       "25         0  ...        0.0     5398.0     6360.0     8292.0    5757.0   \n",
       "26         0  ...    36023.0    28967.0    29829.0    30046.0    1973.0   \n",
       "27        -1  ...      259.0      -57.0      127.0     -189.0       0.0   \n",
       "28         0  ...    17163.0    17878.0    18931.0    19617.0    1300.0   \n",
       "29        -1  ...     3416.0     2040.0    30430.0      257.0    3415.0   \n",
       "30         0  ...    17496.0    17907.0    18375.0    11400.0    1500.0   \n",
       "...      ...  ...        ...        ...        ...        ...       ...   \n",
       "29971      0  ...    64069.0    49005.0     8676.0    19487.0   52951.0   \n",
       "29972      0  ...    68279.0    69674.0    71070.0    73612.0    2395.0   \n",
       "29973      0  ...     5869.0    29223.0    19616.0   148482.0    2000.0   \n",
       "29974     -2  ...        0.0        0.0        0.0        0.0       0.0   \n",
       "29975      0  ...     4328.0     2846.0     1585.0     1324.0       0.0   \n",
       "29976     -2  ...     1369.0     5924.0     1759.0     1824.0    8840.0   \n",
       "29977      2  ...    53415.0    51259.0    47151.0    46934.0    4000.0   \n",
       "29978      0  ...   140011.0   141695.0   144839.0   147954.0    7000.0   \n",
       "29979      0  ...   233854.0   219409.0   216540.0   210675.0   10029.0   \n",
       "29980     -2  ...        0.0        0.0        0.0        0.0       0.0   \n",
       "29981      0  ...    49397.0    50360.0    19971.0    19694.0   10000.0   \n",
       "29982      0  ...    33101.0    28192.0    22676.0    14647.0    2300.0   \n",
       "29983      0  ...    10306.0    11328.0    12036.0    14329.0    1500.0   \n",
       "29984     -2  ...     2712.0     2882.0     9235.0     1719.0    2890.0   \n",
       "29985     -1  ...     2939.0     1993.0     1907.0     3319.0     923.0   \n",
       "29986     -2  ...        0.0        0.0        0.0        0.0       0.0   \n",
       "29987     -2  ...        0.0        0.0        0.0        0.0       0.0   \n",
       "29988      0  ...    15546.0   108047.0    93708.0    97353.0    3000.0   \n",
       "29989      0  ...   243075.0   245750.0   175005.0   179687.0   65000.0   \n",
       "29990     -1  ...       -3.0      780.0        0.0        0.0    9054.0   \n",
       "29991      0  ...   139110.0   138262.0    49675.0    46121.0    6000.0   \n",
       "29992      2  ...     2500.0     2500.0     2500.0     2500.0       0.0   \n",
       "29993     -2  ...        0.0        0.0        0.0        0.0    2000.0   \n",
       "29994      0  ...   102996.0    70626.0    69473.0    55004.0    2000.0   \n",
       "29995      2  ...    79384.0    77519.0    82607.0    81158.0    7000.0   \n",
       "29996      0  ...   208365.0    88004.0    31237.0    15980.0    8500.0   \n",
       "29997      0  ...     3502.0     8979.0     5190.0        0.0    1837.0   \n",
       "29998      0  ...     2758.0    20878.0    20582.0    19357.0       0.0   \n",
       "29999      0  ...    76304.0    52774.0    11855.0    48944.0   85900.0   \n",
       "30000      0  ...    49764.0    36535.0    32428.0    15313.0    2078.0   \n",
       "\n",
       "       PAY_AMT2  PAY_AMT3  PAY_AMT4  PAY_AMT5  PAY_AMT6  \n",
       "ID                                                       \n",
       "1         689.0       0.0       0.0       0.0       0.0  \n",
       "2        1000.0    1000.0    1000.0       0.0    2000.0  \n",
       "3        1500.0    1000.0    1000.0    1000.0    5000.0  \n",
       "4        2019.0    1200.0    1100.0    1069.0    1000.0  \n",
       "5       36681.0   10000.0    9000.0     689.0     679.0  \n",
       "6        1815.0     657.0    1000.0    1000.0     800.0  \n",
       "7       40000.0   38000.0   20239.0   13750.0   13770.0  \n",
       "8         601.0       0.0     581.0    1687.0    1542.0  \n",
       "9           0.0     432.0    1000.0    1000.0    1000.0  \n",
       "10          0.0       0.0   13007.0    1122.0       0.0  \n",
       "11         12.0      50.0     300.0    3738.0      66.0  \n",
       "12       9966.0    8583.0   22301.0       0.0    3640.0  \n",
       "13       6500.0    6500.0    6500.0    2870.0       0.0  \n",
       "14          0.0    3000.0    3000.0    1500.0       0.0  \n",
       "15       3000.0    3000.0    3000.0    3000.0    3000.0  \n",
       "16       1500.0    1100.0    1200.0    1300.0    1100.0  \n",
       "17          0.0    1500.0       0.0    1650.0       0.0  \n",
       "18      10000.0   75940.0   20000.0  195599.0   50000.0  \n",
       "19          0.0       0.0       0.0       0.0       0.0  \n",
       "20          0.0       0.0       0.0       0.0       0.0  \n",
       "21       1537.0    1000.0    2000.0     930.0   33764.0  \n",
       "22        316.0       0.0     632.0     316.0       0.0  \n",
       "23       3582.0       0.0    3601.0       0.0    1820.0  \n",
       "24       1473.0     560.0       0.0       0.0    1128.0  \n",
       "25          0.0    5398.0    1200.0    2045.0    2000.0  \n",
       "26       1426.0    1001.0    1432.0    1062.0     997.0  \n",
       "27       1000.0       0.0     500.0       0.0    1000.0  \n",
       "28       1300.0    1000.0    1500.0    1000.0    1012.0  \n",
       "29       3421.0    2044.0   30430.0     257.0       0.0  \n",
       "30       1500.0    1000.0    1000.0    1600.0       0.0  \n",
       "...         ...       ...       ...       ...       ...  \n",
       "29971   64535.0    8907.0      53.0   19584.0   16080.0  \n",
       "29972    2500.0    2530.0    2556.0    3700.0    3000.0  \n",
       "29973    3869.0   25128.0   10115.0  148482.0    4800.0  \n",
       "29974       0.0       0.0       0.0       0.0       0.0  \n",
       "29975    3000.0       0.0       0.0    1000.0    1000.0  \n",
       "29976    6643.0    5924.0    1759.0    1824.0    7022.0  \n",
       "29977       0.0    2000.0       0.0    3520.0       0.0  \n",
       "29978    7000.0    5500.0    5500.0    5600.0    5000.0  \n",
       "29979    9218.0   10029.0    8049.0    8040.0   10059.0  \n",
       "29980       0.0       0.0       0.0       0.0       0.0  \n",
       "29981    4000.0    5000.0    3000.0    4500.0    2000.0  \n",
       "29982    1700.0       0.0     517.0     503.0     585.0  \n",
       "29983    1500.0    1500.0    1200.0    2500.0       0.0  \n",
       "29984    2720.0    2890.0    9263.0    1824.0    1701.0  \n",
       "29985    2977.0    1999.0    3057.0    3319.0    1000.0  \n",
       "29986       0.0       0.0       0.0       0.0       0.0  \n",
       "29987       0.0       0.0       0.0       0.0       0.0  \n",
       "29988    2000.0   93000.0    4000.0    5027.0    4005.0  \n",
       "29989    8800.0    9011.0    6000.0    7000.0    6009.0  \n",
       "29990       0.0     783.0       0.0       0.0       0.0  \n",
       "29991    7000.0    4228.0    1505.0    2000.0    2000.0  \n",
       "29992       0.0       0.0       0.0       0.0       0.0  \n",
       "29993       0.0       0.0       0.0       0.0       0.0  \n",
       "29994  111784.0    4000.0    3000.0    2000.0    2000.0  \n",
       "29995    3500.0       0.0    7000.0       0.0    4000.0  \n",
       "29996   20000.0    5003.0    3047.0    5000.0    1000.0  \n",
       "29997    3526.0    8998.0     129.0       0.0       0.0  \n",
       "29998       0.0   22000.0    4200.0    2000.0    3100.0  \n",
       "29999    3409.0    1178.0    1926.0   52964.0    1804.0  \n",
       "30000    1800.0    1430.0    1000.0    1000.0    1000.0  \n",
       "\n",
       "[30000 rows x 23 columns]"
      ]
     },
     "execution_count": 76,
     "metadata": {},
     "output_type": "execute_result"
    }
   ],
   "source": [
    "X"
   ]
  },
  {
   "cell_type": "code",
   "execution_count": 77,
   "metadata": {},
   "outputs": [
    {
     "name": "stdout",
     "output_type": "stream",
     "text": [
      "LIMIT_BAL = 0.05617850866654243\n",
      "SEX = 0.01261807056778264\n",
      "EDUCATION = 0.022287861399541205\n",
      "MARRIAGE = 0.013775229753510407\n",
      "AGE = 0.06855773152943703\n",
      "PAY_0 = 0.11390156273096722\n",
      "PAY_2 = 0.052597051343709476\n",
      "PAY_3 = 0.017500873525704428\n",
      "PAY_4 = 0.019809062965982432\n",
      "PAY_5 = 0.016357330767107027\n",
      "PAY_6 = 0.018383327629703898\n",
      "BILL_AMT1 = 0.06339900343849225\n",
      "BILL_AMT2 = 0.051684617917481024\n",
      "BILL_AMT3 = 0.04994402095726399\n",
      "BILL_AMT4 = 0.04660777527415323\n",
      "BILL_AMT5 = 0.04711279603571597\n",
      "BILL_AMT6 = 0.047964560667939776\n",
      "PAY_AMT1 = 0.054002553870759716\n",
      "PAY_AMT2 = 0.04432477993532474\n",
      "PAY_AMT3 = 0.049770775278113154\n",
      "PAY_AMT4 = 0.04388111086146232\n",
      "PAY_AMT5 = 0.043456050305491725\n",
      "PAY_AMT6 = 0.04588534457781397\n"
     ]
    }
   ],
   "source": [
    "for name, importance in zip(X, regr.feature_importances_):\n",
    "    print(name, \"=\", importance)"
   ]
  },
  {
   "cell_type": "code",
   "execution_count": 78,
   "metadata": {},
   "outputs": [
    {
     "data": {
      "text/plain": [
       "<matplotlib.axes._subplots.AxesSubplot at 0x2c93dbe2be0>"
      ]
     },
     "execution_count": 78,
     "metadata": {},
     "output_type": "execute_result"
    },
    {
     "data": {
      "image/png": "[encoded data removed]",
      "text/plain": [
       "<Figure size 432x288 with 1 Axes>"
      ]
     },
     "metadata": {
      "needs_background": "light"
     },
     "output_type": "display_data"
    }
   ],
   "source": [
    "feat_importances = pd.Series(regr.feature_importances_, index=X.columns)\n",
    "feat_importances.plot(kind='barh')"
   ]
  },
  {
   "cell_type": "code",
   "execution_count": 79,
   "metadata": {},
   "outputs": [
    {
     "name": "stdout",
     "output_type": "stream",
     "text": [
      "Proportion of clients in each category:\n",
      "0    0.7788\n",
      "1    0.2212\n",
      "Name: default.payment.next.month, dtype: float64\n"
     ]
    }
   ],
   "source": [
    "proportion=(df['default.payment.next.month'].value_counts())/30000\n",
    "print('Proportion of clients in each category:')\n",
    "print(proportion)"
   ]
  },
  {
   "cell_type": "markdown",
   "metadata": {},
   "source": [
    "Therefore, since 78% donot default (unbalanced dataset), the minimum accuracy score is 78%."
   ]
  },
  {
   "cell_type": "code",
   "execution_count": 80,
   "metadata": {},
   "outputs": [
    {
     "data": {
      "text/plain": [
       "count      30000.000000\n",
       "mean      167484.322667\n",
       "std       129747.661567\n",
       "min        10000.000000\n",
       "25%        50000.000000\n",
       "50%       140000.000000\n",
       "75%       240000.000000\n",
       "max      1000000.000000\n",
       "Name: LIMIT_BAL, dtype: float64"
      ]
     },
     "execution_count": 80,
     "metadata": {},
     "output_type": "execute_result"
    }
   ],
   "source": [
    "df['LIMIT_BAL'].describe() # Range of given creditis quite high."
   ]
  },
  {
   "cell_type": "code",
   "execution_count": 81,
   "metadata": {},
   "outputs": [
    {
     "data": {
      "text/plain": [
       "2    0.603733\n",
       "1    0.396267\n",
       "Name: SEX, dtype: float64"
      ]
     },
     "execution_count": 81,
     "metadata": {},
     "output_type": "execute_result"
    }
   ],
   "source": [
    "df['SEX'].value_counts() / 30000  # 60% of clients are women."
   ]
  },
  {
   "cell_type": "code",
   "execution_count": 82,
   "metadata": {},
   "outputs": [
    {
     "data": {
      "text/plain": [
       "2    15964\n",
       "1    13659\n",
       "3      323\n",
       "0       54\n",
       "Name: MARRIAGE, dtype: int64"
      ]
     },
     "execution_count": 82,
     "metadata": {},
     "output_type": "execute_result"
    }
   ],
   "source": [
    "df['MARRIAGE'].value_counts()"
   ]
  },
  {
   "cell_type": "markdown",
   "metadata": {},
   "source": [
    "Others can include divorced may be but 0 is not any category. 0 can be clients for whom we do not have this information."
   ]
  },
  {
   "cell_type": "code",
   "execution_count": 83,
   "metadata": {},
   "outputs": [
    {
     "data": {
      "text/plain": [
       "2    14030\n",
       "1    10585\n",
       "3     4917\n",
       "5      280\n",
       "4      123\n",
       "6       51\n",
       "0       14\n",
       "Name: EDUCATION, dtype: int64"
      ]
     },
     "execution_count": 83,
     "metadata": {},
     "output_type": "execute_result"
    }
   ],
   "source": [
    "df['EDUCATION'].value_counts()"
   ]
  },
  {
   "cell_type": "markdown",
   "metadata": {},
   "source": [
    "5 and 6 are unknown. May be those who have education less than high school. 0 can be clients for whom we do not have this information."
   ]
  },
  {
   "cell_type": "code",
   "execution_count": 84,
   "metadata": {},
   "outputs": [
    {
     "data": {
      "text/plain": [
       "(array([6.270e+02, 2.058e+03, 2.442e+03, 2.886e+03, 3.000e+03, 2.375e+03,\n",
       "        2.308e+03, 2.221e+03, 1.985e+03, 1.824e+03, 1.618e+03, 1.370e+03,\n",
       "        1.187e+03, 9.670e+02, 4.520e+02, 7.510e+02, 6.290e+02, 4.560e+02,\n",
       "        3.000e+02, 2.050e+02, 1.230e+02, 7.500e+01, 5.500e+01, 4.100e+01,\n",
       "        2.000e+01, 1.300e+01, 7.000e+00, 4.000e+00, 0.000e+00, 1.000e+00]),\n",
       " array([21.        , 22.93333333, 24.86666667, 26.8       , 28.73333333,\n",
       "        30.66666667, 32.6       , 34.53333333, 36.46666667, 38.4       ,\n",
       "        40.33333333, 42.26666667, 44.2       , 46.13333333, 48.06666667,\n",
       "        50.        , 51.93333333, 53.86666667, 55.8       , 57.73333333,\n",
       "        59.66666667, 61.6       , 63.53333333, 65.46666667, 67.4       ,\n",
       "        69.33333333, 71.26666667, 73.2       , 75.13333333, 77.06666667,\n",
       "        79.        ]),\n",
       " <a list of 30 Patch objects>)"
      ]
     },
     "execution_count": 84,
     "metadata": {},
     "output_type": "execute_result"
    },
    {
     "data": {
      "image/png": "[encoded data removed]",
      "text/plain": [
       "<Figure size 432x288 with 1 Axes>"
      ]
     },
     "metadata": {
      "needs_background": "light"
     },
     "output_type": "display_data"
    }
   ],
   "source": [
    "plt.hist(df['AGE'],bins=30)"
   ]
  },
  {
   "cell_type": "code",
   "execution_count": 85,
   "metadata": {},
   "outputs": [
    {
     "name": "stdout",
     "output_type": "stream",
     "text": [
      " 0    14737\n",
      "-1     5686\n",
      " 1     3688\n",
      "-2     2759\n",
      " 2     2667\n",
      " 3      322\n",
      " 4       76\n",
      " 5       26\n",
      " 8       19\n",
      " 6       11\n",
      " 7        9\n",
      "Name: PAY_0, dtype: int64\n",
      " 0    15730\n",
      "-1     6050\n",
      " 2     3927\n",
      "-2     3782\n",
      " 3      326\n",
      " 4       99\n",
      " 1       28\n",
      " 5       25\n",
      " 7       20\n",
      " 6       12\n",
      " 8        1\n",
      "Name: PAY_2, dtype: int64\n",
      " 0    15764\n",
      "-1     5938\n",
      "-2     4085\n",
      " 2     3819\n",
      " 3      240\n",
      " 4       76\n",
      " 7       27\n",
      " 6       23\n",
      " 5       21\n",
      " 1        4\n",
      " 8        3\n",
      "Name: PAY_3, dtype: int64\n",
      " 0    16455\n",
      "-1     5687\n",
      "-2     4348\n",
      " 2     3159\n",
      " 3      180\n",
      " 4       69\n",
      " 7       58\n",
      " 5       35\n",
      " 6        5\n",
      " 8        2\n",
      " 1        2\n",
      "Name: PAY_4, dtype: int64\n",
      " 0    16947\n",
      "-1     5539\n",
      "-2     4546\n",
      " 2     2626\n",
      " 3      178\n",
      " 4       84\n",
      " 7       58\n",
      " 5       17\n",
      " 6        4\n",
      " 8        1\n",
      "Name: PAY_5, dtype: int64\n",
      " 0    16286\n",
      "-1     5740\n",
      "-2     4895\n",
      " 2     2766\n",
      " 3      184\n",
      " 4       49\n",
      " 7       46\n",
      " 6       19\n",
      " 5       13\n",
      " 8        2\n",
      "Name: PAY_6, dtype: int64\n"
     ]
    }
   ],
   "source": [
    "cols =  'PAY_0', 'PAY_2','PAY_3', 'PAY_4', 'PAY_5', 'PAY_6'\n",
    "for i in cols:\n",
    "    print(df[i].value_counts())"
   ]
  },
  {
   "cell_type": "code",
   "execution_count": 86,
   "metadata": {},
   "outputs": [
    {
     "data": {
      "text/plain": [
       "Index(['LIMIT_BAL', 'SEX', 'EDUCATION', 'MARRIAGE', 'AGE', 'PAY_0', 'PAY_2',\n",
       "       'PAY_3', 'PAY_4', 'PAY_5', 'PAY_6', 'BILL_AMT1', 'BILL_AMT2',\n",
       "       'BILL_AMT3', 'BILL_AMT4', 'BILL_AMT5', 'BILL_AMT6', 'PAY_AMT1',\n",
       "       'PAY_AMT2', 'PAY_AMT3', 'PAY_AMT4', 'PAY_AMT5', 'PAY_AMT6',\n",
       "       'default.payment.next.month', 'marriage_sex'],\n",
       "      dtype='object')"
      ]
     },
     "execution_count": 86,
     "metadata": {},
     "output_type": "execute_result"
    }
   ],
   "source": [
    "df.columns"
   ]
  },
  {
   "cell_type": "markdown",
   "metadata": {},
   "source": [
    "p1 = plt.bar(, width, color='#d62728', yerr=menStd)\n",
    "p2 = plt.bar(ind, womenMeans, width,\n",
    "             bottom=menMeans, yerr=womenStd)\n",
    "\n",
    "plt.ylabel('Scores')\n",
    "plt.title('Scores by group and gender')\n",
    "plt.xticks(ind, ('G1', 'G2', 'G3', 'G4', 'G5'))\n",
    "plt.yticks(np.arange(0, 81, 10))\n",
    "plt.legend((p1[0], p2[0]), ('Men', 'Women'))\n",
    "\n",
    "plt.show()\n"
   ]
  },
  {
   "cell_type": "code",
   "execution_count": 87,
   "metadata": {},
   "outputs": [
    {
     "data": {
      "text/plain": [
       "<matplotlib.axes._subplots.AxesSubplot at 0x2c93dbfdb38>"
      ]
     },
     "execution_count": 87,
     "metadata": {},
     "output_type": "execute_result"
    },
    {
     "data": {
      "image/png": "[encoded data removed]",
      "text/plain": [
       "<Figure size 432x288 with 1 Axes>"
      ]
     },
     "metadata": {
      "needs_background": "light"
     },
     "output_type": "display_data"
    }
   ],
   "source": [
    "gender = df.groupby(['SEX', 'default.payment.next.month']).size().unstack(1)\n",
    "gender.plot(kind='bar', stacked = True)\n"
   ]
  },
  {
   "cell_type": "code",
   "execution_count": 88,
   "metadata": {},
   "outputs": [
    {
     "data": {
      "text/plain": [
       "<matplotlib.axes._subplots.AxesSubplot at 0x2c93dec50f0>"
      ]
     },
     "execution_count": 88,
     "metadata": {},
     "output_type": "execute_result"
    },
    {
     "data": {
      "image/png": "[encoded data removed]",
      "text/plain": [
       "<Figure size 432x288 with 1 Axes>"
      ]
     },
     "metadata": {
      "needs_background": "light"
     },
     "output_type": "display_data"
    }
   ],
   "source": [
    "default_marr = df.groupby(['marriage_sex', 'default.payment.next.month']).size().unstack(1)\n",
    "default_marr.plot(kind='bar', stacked = True)\n",
    "#This variable does not make sense much because 2 includes married female and single male?!"
   ]
  },
  {
   "cell_type": "code",
   "execution_count": 89,
   "metadata": {
    "collapsed": true
   },
   "outputs": [
    {
     "data": {
      "text/plain": [
       "ID\n",
       "1        24\n",
       "2        26\n",
       "3        34\n",
       "4        37\n",
       "5        57\n",
       "6        37\n",
       "7        29\n",
       "8        23\n",
       "9        28\n",
       "10       35\n",
       "11       34\n",
       "12       51\n",
       "13       41\n",
       "14       30\n",
       "15       29\n",
       "16       23\n",
       "17       24\n",
       "18       49\n",
       "19       49\n",
       "20       29\n",
       "21       39\n",
       "22       39\n",
       "23       26\n",
       "24       40\n",
       "25       23\n",
       "26       23\n",
       "27       27\n",
       "28       30\n",
       "29       47\n",
       "30       26\n",
       "         ..\n",
       "29971    34\n",
       "29972    36\n",
       "29973    37\n",
       "29974    35\n",
       "29975    37\n",
       "29976    41\n",
       "29977    47\n",
       "29978    34\n",
       "29979    39\n",
       "29980    32\n",
       "29981    42\n",
       "29982    44\n",
       "29983    36\n",
       "29984    44\n",
       "29985    38\n",
       "29986    30\n",
       "29987    35\n",
       "29988    34\n",
       "29989    34\n",
       "29990    35\n",
       "29991    41\n",
       "29992    34\n",
       "29993    43\n",
       "29994    38\n",
       "29995    34\n",
       "29996    39\n",
       "29997    43\n",
       "29998    37\n",
       "29999    41\n",
       "30000    46\n",
       "Name: AGE, Length: 30000, dtype: int64"
      ]
     },
     "execution_count": 89,
     "metadata": {},
     "output_type": "execute_result"
    }
   ],
   "source": [
    "df.AGE"
   ]
  },
  {
   "cell_type": "code",
   "execution_count": 90,
   "metadata": {
    "collapsed": true
   },
   "outputs": [
    {
     "name": "stderr",
     "output_type": "stream",
     "text": [
      "C:\\Users\\bhardwaj\\Anaconda3\\lib\\site-packages\\matplotlib\\axes\\_axes.py:6521: MatplotlibDeprecationWarning: \n",
      "The 'normed' kwarg was deprecated in Matplotlib 2.1 and will be removed in 3.1. Use 'density' instead.\n",
      "  alternative=\"'density'\", removal=\"3.1\")\n"
     ]
    },
    {
     "data": {
      "text/plain": [
       "(array([1.08103448e-02, 3.54827586e-02, 4.21034483e-02, 4.97586207e-02,\n",
       "        5.17241379e-02, 4.09482759e-02, 3.97931034e-02, 3.82931034e-02,\n",
       "        3.42241379e-02, 3.14482759e-02, 2.78965517e-02, 2.36206897e-02,\n",
       "        2.04655172e-02, 1.66724138e-02, 7.79310345e-03, 1.29482759e-02,\n",
       "        1.08448276e-02, 7.86206897e-03, 5.17241379e-03, 3.53448276e-03,\n",
       "        2.12068966e-03, 1.29310345e-03, 9.48275862e-04, 7.06896552e-04,\n",
       "        3.44827586e-04, 2.24137931e-04, 1.20689655e-04, 6.89655172e-05,\n",
       "        0.00000000e+00, 1.72413793e-05]),\n",
       " array([21.        , 22.93333333, 24.86666667, 26.8       , 28.73333333,\n",
       "        30.66666667, 32.6       , 34.53333333, 36.46666667, 38.4       ,\n",
       "        40.33333333, 42.26666667, 44.2       , 46.13333333, 48.06666667,\n",
       "        50.        , 51.93333333, 53.86666667, 55.8       , 57.73333333,\n",
       "        59.66666667, 61.6       , 63.53333333, 65.46666667, 67.4       ,\n",
       "        69.33333333, 71.26666667, 73.2       , 75.13333333, 77.06666667,\n",
       "        79.        ]),\n",
       " <a list of 30 Patch objects>)"
      ]
     },
     "execution_count": 90,
     "metadata": {},
     "output_type": "execute_result"
    },
    {
     "data": {
      "image/png": "[encoded data removed]",
      "text/plain": [
       "<Figure size 432x288 with 1 Axes>"
      ]
     },
     "metadata": {
      "needs_background": "light"
     },
     "output_type": "display_data"
    }
   ],
   "source": [
    "plt.hist(df['AGE'],bins=30,normed=1)"
   ]
  },
  {
   "cell_type": "code",
   "execution_count": 91,
   "metadata": {},
   "outputs": [
    {
     "data": {
      "text/plain": [
       "count    30000.000000\n",
       "mean        35.485500\n",
       "std          9.217904\n",
       "min         21.000000\n",
       "25%         28.000000\n",
       "50%         34.000000\n",
       "75%         41.000000\n",
       "max         79.000000\n",
       "Name: AGE, dtype: float64"
      ]
     },
     "execution_count": 91,
     "metadata": {},
     "output_type": "execute_result"
    }
   ],
   "source": [
    "df.AGE.describe()"
   ]
  },
  {
   "cell_type": "code",
   "execution_count": 92,
   "metadata": {
    "collapsed": true
   },
   "outputs": [
    {
     "data": {
      "text/plain": [
       "<matplotlib.axes._subplots.AxesSubplot at 0x2c93dc87940>"
      ]
     },
     "execution_count": 92,
     "metadata": {},
     "output_type": "execute_result"
    },
    {
     "data": {
      "image/png": "[encoded data removed]",
      "text/plain": [
       "<Figure size 432x288 with 1 Axes>"
      ]
     },
     "metadata": {
      "needs_background": "light"
     },
     "output_type": "display_data"
    }
   ],
   "source": [
    "df['AgeBin'] = 0 #creates a column of 0\n",
    "df.loc[((df['AGE'] > 20) & (df['AGE'] < 30)) , 'AgeBin'] = 1\n",
    "df.loc[((df['AGE'] >= 30) & (df['AGE'] < 40)) , 'AgeBin'] = 2\n",
    "df.loc[((df['AGE'] >= 40) & (df['AGE'] < 50)) , 'AgeBin'] = 3\n",
    "df.loc[((df['AGE'] >= 50) & (df['AGE'] < 60)) , 'AgeBin'] = 4\n",
    "df.loc[((df['AGE'] >= 60) & (df['AGE'] < 70)) , 'AgeBin'] = 5\n",
    "df.loc[((df['AGE'] >= 70) & (df['AGE'] < 81)) , 'AgeBin'] = 6\n",
    "df.AgeBin.hist()"
   ]
  },
  {
   "cell_type": "code",
   "execution_count": 93,
   "metadata": {
    "collapsed": true
   },
   "outputs": [
    {
     "data": {
      "text/plain": [
       "<seaborn.axisgrid.FacetGrid at 0x2c93c0d7e80>"
      ]
     },
     "execution_count": 93,
     "metadata": {},
     "output_type": "execute_result"
    },
    {
     "data": {
      "image/png": "[encoded data removed]",
      "text/plain": [
       "<Figure size 360x360 with 1 Axes>"
      ]
     },
     "metadata": {
      "needs_background": "light"
     },
     "output_type": "display_data"
    }
   ],
   "source": [
    "sns.catplot(x='AgeBin',y='default.payment.next.month', kind=\"point\",data=df)\n",
    "## It says on average probability of default increases with increase in age."
   ]
  },
  {
   "cell_type": "code",
   "execution_count": 94,
   "metadata": {
    "collapsed": true
   },
   "outputs": [
    {
     "data": {
      "text/plain": [
       "2    11238\n",
       "1     9618\n",
       "3     6464\n",
       "4     2341\n",
       "5      314\n",
       "6       25\n",
       "Name: AgeBin, dtype: int64"
      ]
     },
     "execution_count": 94,
     "metadata": {},
     "output_type": "execute_result"
    }
   ],
   "source": [
    "df['AgeBin'].value_counts()"
   ]
  },
  {
   "cell_type": "code",
   "execution_count": 95,
   "metadata": {
    "collapsed": true
   },
   "outputs": [
    {
     "data": {
      "text/plain": [
       "<seaborn.axisgrid.FacetGrid at 0x2c93c216208>"
      ]
     },
     "execution_count": 95,
     "metadata": {},
     "output_type": "execute_result"
    },
    {
     "data": {
      "image/png": "[encoded data removed]",
      "text/plain": [
       "<Figure size 402.375x360 with 1 Axes>"
      ]
     },
     "metadata": {
      "needs_background": "light"
     },
     "output_type": "display_data"
    }
   ],
   "source": [
    "sns.catplot(x='AgeBin',y='default.payment.next.month',hue='SEX', kind=\"point\",data=df)"
   ]
  },
  {
   "cell_type": "markdown",
   "metadata": {},
   "source": [
    "With probability of default higher for male than female in almost every age group."
   ]
  },
  {
   "cell_type": "code",
   "execution_count": 96,
   "metadata": {},
   "outputs": [],
   "source": [
    "df = df.rename(columns = {\"PAY_0\":\"PAY_1\"}) "
   ]
  },
  {
   "cell_type": "markdown",
   "metadata": {},
   "source": [
    "Since, Pay_1 includes payment status for last 9 months so  it might include payment status for some clients for previous months. Or may be who default often will have same status of delayed pay. Therefore, payment status variables might be highly correlated with each other."
   ]
  },
  {
   "cell_type": "code",
   "execution_count": 97,
   "metadata": {
    "scrolled": false
   },
   "outputs": [
    {
     "data": {
      "text/plain": [
       "<matplotlib.axes._subplots.AxesSubplot at 0x2c93bf98eb8>"
      ]
     },
     "execution_count": 97,
     "metadata": {},
     "output_type": "execute_result"
    },
    {
     "data": {
      "image/png": "[encoded data removed]",
      "text/plain": [
       "<Figure size 432x288 with 1 Axes>"
      ]
     },
     "metadata": {
      "needs_background": "light"
     },
     "output_type": "display_data"
    }
   ],
   "source": [
    "df.PAY_1.hist()"
   ]
  },
  {
   "cell_type": "code",
   "execution_count": 98,
   "metadata": {
    "collapsed": true
   },
   "outputs": [
    {
     "data": {
      "text/plain": [
       " 0    14737\n",
       "-1     5686\n",
       " 1     3688\n",
       "-2     2759\n",
       " 2     2667\n",
       " 3      322\n",
       " 4       76\n",
       " 5       26\n",
       " 8       19\n",
       " 6       11\n",
       " 7        9\n",
       "Name: PAY_1, dtype: int64"
      ]
     },
     "execution_count": 98,
     "metadata": {},
     "output_type": "execute_result"
    }
   ],
   "source": [
    "df.PAY_1.value_counts()"
   ]
  },
  {
   "cell_type": "markdown",
   "metadata": {},
   "source": [
    " Here 0 value could mean two things:\n",
    "1. 0 stands for missing values in the data.\n",
    "2. 0 stands for those who paid duly.\n",
    "\n",
    " I am considering 2nd possibilty and converting negative values to 0 too because no label is assigned to these negatice values."
   ]
  },
  {
   "cell_type": "code",
   "execution_count": 99,
   "metadata": {
    "collapsed": true
   },
   "outputs": [
    {
     "data": {
      "text/plain": [
       "<seaborn.axisgrid.FacetGrid at 0x2c93d9f8908>"
      ]
     },
     "execution_count": 99,
     "metadata": {},
     "output_type": "execute_result"
    },
    {
     "data": {
      "image/png": "[encoded data removed]",
      "text/plain": [
       "<Figure size 402.375x360 with 1 Axes>"
      ]
     },
     "metadata": {
      "needs_background": "light"
     },
     "output_type": "display_data"
    }
   ],
   "source": [
    "sns.catplot(x='PAY_1',y='default.payment.next.month',hue='SEX', kind=\"point\",data=df)"
   ]
  },
  {
   "cell_type": "code",
   "execution_count": 100,
   "metadata": {},
   "outputs": [
    {
     "name": "stderr",
     "output_type": "stream",
     "text": [
      "C:\\Users\\bhardwaj\\Anaconda3\\lib\\site-packages\\ipykernel_launcher.py:1: SettingWithCopyWarning: \n",
      "A value is trying to be set on a copy of a slice from a DataFrame\n",
      "\n",
      "See the caveats in the documentation: http://pandas.pydata.org/pandas-docs/stable/indexing.html#indexing-view-versus-copy\n",
      "  \"\"\"Entry point for launching an IPython kernel.\n",
      "C:\\Users\\bhardwaj\\Anaconda3\\lib\\site-packages\\ipykernel_launcher.py:2: SettingWithCopyWarning: \n",
      "A value is trying to be set on a copy of a slice from a DataFrame\n",
      "\n",
      "See the caveats in the documentation: http://pandas.pydata.org/pandas-docs/stable/indexing.html#indexing-view-versus-copy\n",
      "  \n"
     ]
    }
   ],
   "source": [
    "df.PAY_1[df.PAY_1 == -1] = 0\n",
    "df.PAY_1[df.PAY_1 == -2] = 0"
   ]
  },
  {
   "cell_type": "code",
   "execution_count": 101,
   "metadata": {
    "collapsed": true
   },
   "outputs": [
    {
     "data": {
      "text/plain": [
       "(array([2.0000e+00, 0.0000e+00, 0.0000e+00, 1.0000e+00, 1.5085e+04,\n",
       "        6.7990e+03, 3.0820e+03, 1.7840e+03, 1.1410e+03, 7.7700e+02,\n",
       "        4.4700e+02, 3.1000e+02, 1.8400e+02, 1.2500e+02, 8.8000e+01,\n",
       "        6.4000e+01, 3.7000e+01, 4.2000e+01, 1.2000e+01, 8.0000e+00,\n",
       "        7.0000e+00, 3.0000e+00, 0.0000e+00, 0.0000e+00, 1.0000e+00,\n",
       "        0.0000e+00, 0.0000e+00, 0.0000e+00, 0.0000e+00, 1.0000e+00]),\n",
       " array([-165580. , -127910.3,  -90240.6,  -52570.9,  -14901.2,   22768.5,\n",
       "          60438.2,   98107.9,  135777.6,  173447.3,  211117. ,  248786.7,\n",
       "         286456.4,  324126.1,  361795.8,  399465.5,  437135.2,  474804.9,\n",
       "         512474.6,  550144.3,  587814. ,  625483.7,  663153.4,  700823.1,\n",
       "         738492.8,  776162.5,  813832.2,  851501.9,  889171.6,  926841.3,\n",
       "         964511. ]),\n",
       " <a list of 30 Patch objects>)"
      ]
     },
     "execution_count": 101,
     "metadata": {},
     "output_type": "execute_result"
    },
    {
     "data": {
      "image/png": "[encoded data removed]",
      "text/plain": [
       "<Figure size 432x288 with 1 Axes>"
      ]
     },
     "metadata": {
      "needs_background": "light"
     },
     "output_type": "display_data"
    }
   ],
   "source": [
    "plt.hist(df['BILL_AMT1'],bins=30)"
   ]
  },
  {
   "cell_type": "code",
   "execution_count": 102,
   "metadata": {
    "scrolled": true
   },
   "outputs": [
    {
     "data": {
      "text/plain": [
       "count     30000.000000\n",
       "mean      51223.330900\n",
       "std       73635.860576\n",
       "min     -165580.000000\n",
       "25%        3558.750000\n",
       "50%       22381.500000\n",
       "75%       67091.000000\n",
       "max      964511.000000\n",
       "Name: BILL_AMT1, dtype: float64"
      ]
     },
     "execution_count": 102,
     "metadata": {},
     "output_type": "execute_result"
    }
   ],
   "source": [
    "df.BILL_AMT1.describe()"
   ]
  },
  {
   "cell_type": "markdown",
   "metadata": {},
   "source": [
    "Negative amount in bill statement means that you have overpaid the due amount on your credit card."
   ]
  },
  {
   "cell_type": "code",
   "execution_count": 103,
   "metadata": {},
   "outputs": [],
   "source": [
    "df['bill 1 / limit bal' ]=df['BILL_AMT1']/df['LIMIT_BAL']"
   ]
  },
  {
   "cell_type": "code",
   "execution_count": 104,
   "metadata": {},
   "outputs": [],
   "source": [
    "df['bill 2 / limit bal' ]=df['BILL_AMT2']/df['LIMIT_BAL']"
   ]
  },
  {
   "cell_type": "code",
   "execution_count": 105,
   "metadata": {},
   "outputs": [],
   "source": [
    "df['bill 3 / limit bal' ]=df['BILL_AMT3']/df['LIMIT_BAL']"
   ]
  },
  {
   "cell_type": "code",
   "execution_count": 106,
   "metadata": {},
   "outputs": [],
   "source": [
    "df['bill 4 / limit bal' ]=df['BILL_AMT4']/df['LIMIT_BAL']"
   ]
  },
  {
   "cell_type": "code",
   "execution_count": 107,
   "metadata": {},
   "outputs": [],
   "source": [
    "df['bill 5 / limit bal' ]=df['BILL_AMT5']/df['LIMIT_BAL']"
   ]
  },
  {
   "cell_type": "code",
   "execution_count": 108,
   "metadata": {},
   "outputs": [],
   "source": [
    "df['bill 6 / limit bal' ]=df['BILL_AMT6']/df['LIMIT_BAL']"
   ]
  },
  {
   "cell_type": "code",
   "execution_count": 109,
   "metadata": {
    "scrolled": true
   },
   "outputs": [
    {
     "data": {
      "text/plain": [
       "(array([2.0000e+00, 3.0000e+00, 1.0886e+04, 4.2390e+03, 3.3740e+03,\n",
       "        3.4300e+03, 7.1840e+03, 6.0600e+02, 1.1400e+02, 6.2000e+01,\n",
       "        5.7000e+01, 1.5000e+01, 1.0000e+01, 2.0000e+00, 3.0000e+00,\n",
       "        1.0000e+00, 4.0000e+00, 2.0000e+00, 2.0000e+00, 1.0000e+00,\n",
       "        1.0000e+00, 0.0000e+00, 0.0000e+00, 0.0000e+00, 0.0000e+00,\n",
       "        1.0000e+00, 0.0000e+00, 0.0000e+00, 0.0000e+00, 1.0000e+00]),\n",
       " array([-0.619892  , -0.38405227, -0.14821253,  0.0876272 ,  0.32346693,\n",
       "         0.55930667,  0.7951464 ,  1.03098613,  1.26682587,  1.5026656 ,\n",
       "         1.73850533,  1.97434507,  2.2101848 ,  2.44602453,  2.68186427,\n",
       "         2.917704  ,  3.15354373,  3.38938347,  3.6252232 ,  3.86106293,\n",
       "         4.09690267,  4.3327424 ,  4.56858213,  4.80442187,  5.0402616 ,\n",
       "         5.27610133,  5.51194107,  5.7477808 ,  5.98362053,  6.21946027,\n",
       "         6.4553    ]),\n",
       " <a list of 30 Patch objects>)"
      ]
     },
     "execution_count": 109,
     "metadata": {},
     "output_type": "execute_result"
    },
    {
     "data": {
      "image/png": "[encoded data removed]",
      "text/plain": [
       "<Figure size 432x288 with 1 Axes>"
      ]
     },
     "metadata": {
      "needs_background": "light"
     },
     "output_type": "display_data"
    }
   ],
   "source": [
    "plt.hist(df['bill 1 / limit bal'],bins=30)"
   ]
  },
  {
   "cell_type": "code",
   "execution_count": 110,
   "metadata": {
    "scrolled": true
   },
   "outputs": [
    {
     "data": {
      "text/plain": [
       "(array([1.000e+00, 1.000e+00, 0.000e+00, 0.000e+00, 9.000e+00, 1.281e+04,\n",
       "        3.975e+03, 3.715e+03, 4.833e+03, 4.395e+03, 1.130e+02, 6.700e+01,\n",
       "        4.300e+01, 1.800e+01, 7.000e+00, 0.000e+00, 3.000e+00, 0.000e+00,\n",
       "        4.000e+00, 3.000e+00, 0.000e+00, 1.000e+00, 0.000e+00, 0.000e+00,\n",
       "        0.000e+00, 0.000e+00, 1.000e+00, 0.000e+00, 0.000e+00, 1.000e+00]),\n",
       " array([-1.39554   , -1.13633867, -0.87713733, -0.617936  , -0.35873467,\n",
       "        -0.09953333,  0.159668  ,  0.41886933,  0.67807067,  0.937272  ,\n",
       "         1.19647333,  1.45567467,  1.714876  ,  1.97407733,  2.23327867,\n",
       "         2.49248   ,  2.75168133,  3.01088267,  3.270084  ,  3.52928533,\n",
       "         3.78848667,  4.047688  ,  4.30688933,  4.56609067,  4.825292  ,\n",
       "         5.08449333,  5.34369467,  5.602896  ,  5.86209733,  6.12129867,\n",
       "         6.3805    ]),\n",
       " <a list of 30 Patch objects>)"
      ]
     },
     "execution_count": 110,
     "metadata": {},
     "output_type": "execute_result"
    },
    {
     "data": {
      "image/png": "[encoded data removed]",
      "text/plain": [
       "<Figure size 432x288 with 1 Axes>"
      ]
     },
     "metadata": {
      "needs_background": "light"
     },
     "output_type": "display_data"
    }
   ],
   "source": [
    "plt.hist(df['bill 2 / limit bal'],bins=30)"
   ]
  },
  {
   "cell_type": "code",
   "execution_count": 111,
   "metadata": {
    "scrolled": true
   },
   "outputs": [
    {
     "data": {
      "text/plain": [
       "(array([3.000e+00, 0.000e+00, 1.285e+04, 6.300e+03, 6.459e+03, 4.235e+03,\n",
       "        8.800e+01, 4.200e+01, 8.000e+00, 6.000e+00, 2.000e+00, 3.000e+00,\n",
       "        1.000e+00, 0.000e+00, 1.000e+00, 0.000e+00, 1.000e+00, 0.000e+00,\n",
       "        0.000e+00, 0.000e+00, 0.000e+00, 0.000e+00, 0.000e+00, 0.000e+00,\n",
       "        0.000e+00, 0.000e+00, 0.000e+00, 0.000e+00, 0.000e+00, 1.000e+00]),\n",
       " array([-1.0251    , -0.63464417, -0.24418833,  0.1462675 ,  0.53672333,\n",
       "         0.92717917,  1.317635  ,  1.70809083,  2.09854667,  2.4890025 ,\n",
       "         2.87945833,  3.26991417,  3.66037   ,  4.05082583,  4.44128167,\n",
       "         4.8317375 ,  5.22219333,  5.61264917,  6.003105  ,  6.39356083,\n",
       "         6.78401667,  7.1744725 ,  7.56492833,  7.95538417,  8.34584   ,\n",
       "         8.73629583,  9.12675167,  9.5172075 ,  9.90766333, 10.29811917,\n",
       "        10.688575  ]),\n",
       " <a list of 30 Patch objects>)"
      ]
     },
     "execution_count": 111,
     "metadata": {},
     "output_type": "execute_result"
    },
    {
     "data": {
      "image/png": "[encoded data removed]",
      "text/plain": [
       "<Figure size 432x288 with 1 Axes>"
      ]
     },
     "metadata": {
      "needs_background": "light"
     },
     "output_type": "display_data"
    }
   ],
   "source": [
    "plt.hist(df['bill 3 / limit bal'],bins=30)"
   ]
  },
  {
   "cell_type": "code",
   "execution_count": 112,
   "metadata": {
    "scrolled": true
   },
   "outputs": [
    {
     "data": {
      "text/plain": [
       "(array([1.0000e+00, 1.0000e+00, 2.0000e+00, 1.0000e+00, 5.0000e+00,\n",
       "        2.0000e+01, 1.3179e+04, 3.9770e+03, 3.8840e+03, 3.4780e+03,\n",
       "        4.8810e+03, 4.4100e+02, 4.8000e+01, 2.6000e+01, 2.3000e+01,\n",
       "        2.1000e+01, 4.0000e+00, 3.0000e+00, 0.0000e+00, 1.0000e+00,\n",
       "        1.0000e+00, 0.0000e+00, 0.0000e+00, 1.0000e+00, 0.0000e+00,\n",
       "        0.0000e+00, 0.0000e+00, 1.0000e+00, 0.0000e+00, 1.0000e+00]),\n",
       " array([-1.3745    , -1.15712167, -0.93974333, -0.722365  , -0.50498667,\n",
       "        -0.28760833, -0.07023   ,  0.14714833,  0.36452667,  0.581905  ,\n",
       "         0.79928333,  1.01666167,  1.23404   ,  1.45141833,  1.66879667,\n",
       "         1.886175  ,  2.10355333,  2.32093167,  2.53831   ,  2.75568833,\n",
       "         2.97306667,  3.190445  ,  3.40782333,  3.62520167,  3.84258   ,\n",
       "         4.05995833,  4.27733667,  4.494715  ,  4.71209333,  4.92947167,\n",
       "         5.14685   ]),\n",
       " <a list of 30 Patch objects>)"
      ]
     },
     "execution_count": 112,
     "metadata": {},
     "output_type": "execute_result"
    },
    {
     "data": {
      "image/png": "[encoded data removed]",
      "text/plain": [
       "<Figure size 432x288 with 1 Axes>"
      ]
     },
     "metadata": {
      "needs_background": "light"
     },
     "output_type": "display_data"
    }
   ],
   "source": [
    "plt.hist(df['bill 4 / limit bal'],bins=30)"
   ]
  },
  {
   "cell_type": "code",
   "execution_count": 113,
   "metadata": {
    "scrolled": true
   },
   "outputs": [
    {
     "data": {
      "text/plain": [
       "(array([3.0000e+00, 1.0000e+00, 5.0000e+00, 6.0000e+00, 1.2265e+04,\n",
       "        3.9990e+03, 3.9670e+03, 3.4310e+03, 2.8510e+03, 3.2640e+03,\n",
       "        1.0900e+02, 4.0000e+01, 1.5000e+01, 1.6000e+01, 1.9000e+01,\n",
       "        3.0000e+00, 0.0000e+00, 2.0000e+00, 1.0000e+00, 0.0000e+00,\n",
       "        0.0000e+00, 0.0000e+00, 1.0000e+00, 0.0000e+00, 0.0000e+00,\n",
       "        0.0000e+00, 0.0000e+00, 0.0000e+00, 0.0000e+00, 2.0000e+00]),\n",
       " array([-0.87674286, -0.68300143, -0.48926   , -0.29551857, -0.10177714,\n",
       "         0.09196429,  0.28570571,  0.47944714,  0.67318857,  0.86693   ,\n",
       "         1.06067143,  1.25441286,  1.44815429,  1.64189571,  1.83563714,\n",
       "         2.02937857,  2.22312   ,  2.41686143,  2.61060286,  2.80434429,\n",
       "         2.99808571,  3.19182714,  3.38556857,  3.57931   ,  3.77305143,\n",
       "         3.96679286,  4.16053429,  4.35427571,  4.54801714,  4.74175857,\n",
       "         4.9355    ]),\n",
       " <a list of 30 Patch objects>)"
      ]
     },
     "execution_count": 113,
     "metadata": {},
     "output_type": "execute_result"
    },
    {
     "data": {
      "image/png": "[encoded data removed]",
      "text/plain": [
       "<Figure size 432x288 with 1 Axes>"
      ]
     },
     "metadata": {
      "needs_background": "light"
     },
     "output_type": "display_data"
    }
   ],
   "source": [
    "plt.hist(df['bill 5 / limit bal'],bins=30)"
   ]
  },
  {
   "cell_type": "code",
   "execution_count": 114,
   "metadata": {
    "scrolled": true
   },
   "outputs": [
    {
     "data": {
      "text/plain": [
       "(array([1.0000e+00, 1.0000e+00, 0.0000e+00, 0.0000e+00, 2.0000e+00,\n",
       "        1.0000e+00, 8.0000e+00, 3.2000e+01, 1.3282e+04, 3.5090e+03,\n",
       "        3.6770e+03, 3.1700e+03, 2.6120e+03, 3.0800e+03, 5.3400e+02,\n",
       "        2.8000e+01, 1.5000e+01, 1.3000e+01, 2.0000e+01, 1.0000e+01,\n",
       "        1.0000e+00, 2.0000e+00, 0.0000e+00, 1.0000e+00, 0.0000e+00,\n",
       "        0.0000e+00, 0.0000e+00, 0.0000e+00, 0.0000e+00, 1.0000e+00]),\n",
       " array([-1.50953 , -1.329694, -1.149858, -0.970022, -0.790186, -0.61035 ,\n",
       "        -0.430514, -0.250678, -0.070842,  0.108994,  0.28883 ,  0.468666,\n",
       "         0.648502,  0.828338,  1.008174,  1.18801 ,  1.367846,  1.547682,\n",
       "         1.727518,  1.907354,  2.08719 ,  2.267026,  2.446862,  2.626698,\n",
       "         2.806534,  2.98637 ,  3.166206,  3.346042,  3.525878,  3.705714,\n",
       "         3.88555 ]),\n",
       " <a list of 30 Patch objects>)"
      ]
     },
     "execution_count": 114,
     "metadata": {},
     "output_type": "execute_result"
    },
    {
     "data": {
      "image/png": "[encoded data removed]",
      "text/plain": [
       "<Figure size 432x288 with 1 Axes>"
      ]
     },
     "metadata": {
      "needs_background": "light"
     },
     "output_type": "display_data"
    }
   ],
   "source": [
    "plt.hist(df['bill 6 / limit bal'],bins=30)"
   ]
  },
  {
   "cell_type": "code",
   "execution_count": 115,
   "metadata": {
    "scrolled": true
   },
   "outputs": [
    {
     "data": {
      "text/plain": [
       "count    30000.000000\n",
       "mean         0.423771\n",
       "std          0.411462\n",
       "min         -0.619892\n",
       "25%          0.022032\n",
       "50%          0.313994\n",
       "75%          0.829843\n",
       "max          6.455300\n",
       "Name: bill 1 / limit bal, dtype: float64"
      ]
     },
     "execution_count": 115,
     "metadata": {},
     "output_type": "execute_result"
    }
   ],
   "source": [
    "df['bill 1 / limit bal'].describe()"
   ]
  },
  {
   "cell_type": "code",
   "execution_count": 116,
   "metadata": {
    "collapsed": true
   },
   "outputs": [
    {
     "data": {
      "text/plain": [
       "<matplotlib.axes._subplots.AxesSubplot at 0x2c940c1e160>"
      ]
     },
     "execution_count": 116,
     "metadata": {},
     "output_type": "execute_result"
    },
    {
     "data": {
      "image/png": "[encoded data removed]",
      "text/plain": [
       "<Figure size 432x288 with 1 Axes>"
      ]
     },
     "metadata": {
      "needs_background": "light"
     },
     "output_type": "display_data"
    }
   ],
   "source": [
    "sns.boxplot(df['default.payment.next.month'],df['bill 1 / limit bal'])"
   ]
  },
  {
   "cell_type": "markdown",
   "metadata": {},
   "source": [
    "As a proportion of balance limit, on average amount of bill statement is slightly higher for those who default. "
   ]
  },
  {
   "cell_type": "code",
   "execution_count": 117,
   "metadata": {
    "collapsed": true
   },
   "outputs": [
    {
     "data": {
      "text/plain": [
       "<matplotlib.axes._subplots.AxesSubplot at 0x2c940c8f4e0>"
      ]
     },
     "execution_count": 117,
     "metadata": {},
     "output_type": "execute_result"
    },
    {
     "data": {
      "image/png": "[encoded data removed]",
      "text/plain": [
       "<Figure size 432x288 with 1 Axes>"
      ]
     },
     "metadata": {
      "needs_background": "light"
     },
     "output_type": "display_data"
    }
   ],
   "source": [
    "sns.boxplot(df['default.payment.next.month'],df['BILL_AMT1'])"
   ]
  },
  {
   "cell_type": "code",
   "execution_count": 118,
   "metadata": {
    "collapsed": true
   },
   "outputs": [
    {
     "data": {
      "text/plain": [
       "Index(['LIMIT_BAL', 'SEX', 'EDUCATION', 'MARRIAGE', 'AGE', 'PAY_1', 'PAY_2',\n",
       "       'PAY_3', 'PAY_4', 'PAY_5', 'PAY_6', 'BILL_AMT1', 'BILL_AMT2',\n",
       "       'BILL_AMT3', 'BILL_AMT4', 'BILL_AMT5', 'BILL_AMT6', 'PAY_AMT1',\n",
       "       'PAY_AMT2', 'PAY_AMT3', 'PAY_AMT4', 'PAY_AMT5', 'PAY_AMT6',\n",
       "       'default.payment.next.month', 'marriage_sex', 'AgeBin',\n",
       "       'bill 1 / limit bal', 'bill 2 / limit bal', 'bill 3 / limit bal',\n",
       "       'bill 4 / limit bal', 'bill 5 / limit bal', 'bill 6 / limit bal'],\n",
       "      dtype='object')"
      ]
     },
     "execution_count": 118,
     "metadata": {},
     "output_type": "execute_result"
    }
   ],
   "source": [
    "df.columns"
   ]
  },
  {
   "cell_type": "code",
   "execution_count": 119,
   "metadata": {
    "collapsed": true
   },
   "outputs": [
    {
     "data": {
      "image/png": "[encoded data removed]",
      "text/plain": [
       "<Figure size 432x216 with 2 Axes>"
      ]
     },
     "metadata": {
      "needs_background": "light"
     },
     "output_type": "display_data"
    },
    {
     "data": {
      "image/png": "[encoded data removed]",
      "text/plain": [
       "<Figure size 432x216 with 2 Axes>"
      ]
     },
     "metadata": {
      "needs_background": "light"
     },
     "output_type": "display_data"
    },
    {
     "data": {
      "image/png": "[encoded data removed]",
      "text/plain": [
       "<Figure size 432x216 with 2 Axes>"
      ]
     },
     "metadata": {
      "needs_background": "light"
     },
     "output_type": "display_data"
    },
    {
     "data": {
      "image/png": "[encoded data removed]",
      "text/plain": [
       "<Figure size 432x216 with 2 Axes>"
      ]
     },
     "metadata": {
      "needs_background": "light"
     },
     "output_type": "display_data"
    },
    {
     "data": {
      "image/png": "[encoded data removed]",
      "text/plain": [
       "<Figure size 432x216 with 2 Axes>"
      ]
     },
     "metadata": {
      "needs_background": "light"
     },
     "output_type": "display_data"
    },
    {
     "data": {
      "image/png": "[encoded data removed]",
      "text/plain": [
       "<Figure size 432x216 with 2 Axes>"
      ]
     },
     "metadata": {
      "needs_background": "light"
     },
     "output_type": "display_data"
    }
   ],
   "source": [
    "cols= 'bill 1 / limit bal', 'bill 2 / limit bal', 'bill 3 / limit bal','bill 4 / limit bal', 'bill 5 / limit bal', 'bill 6 / limit bal'\n",
    "for i in cols:\n",
    "    g = sns.FacetGrid(df, col=\"SEX\")\n",
    "    g.map(plt.hist, i)"
   ]
  },
  {
   "cell_type": "code",
   "execution_count": 120,
   "metadata": {
    "collapsed": true
   },
   "outputs": [
    {
     "data": {
      "text/plain": [
       "(array([5.249e+03, 9.000e+00, 1.400e+01, 4.500e+01, 3.200e+01, 4.100e+01,\n",
       "        2.800e+01, 2.500e+01, 2.800e+01, 3.700e+01, 8.000e+01, 1.890e+02,\n",
       "        4.130e+02, 6.180e+02, 5.910e+02, 2.797e+03, 5.469e+03, 3.998e+03,\n",
       "        3.697e+03, 2.757e+03, 1.827e+03, 9.370e+02, 4.480e+02, 2.890e+02,\n",
       "        1.900e+02, 1.020e+02, 5.600e+01, 2.800e+01, 5.000e+00, 1.000e+00]),\n",
       " array([ 0.        ,  0.4560108 ,  0.91202161,  1.36803241,  1.82404321,\n",
       "         2.28005401,  2.73606482,  3.19207562,  3.64808642,  4.10409722,\n",
       "         4.56010803,  5.01611883,  5.47212963,  5.92814044,  6.38415124,\n",
       "         6.84016204,  7.29617284,  7.75218365,  8.20819445,  8.66420525,\n",
       "         9.12021605,  9.57622686, 10.03223766, 10.48824846, 10.94425927,\n",
       "        11.40027007, 11.85628087, 12.31229167, 12.76830248, 13.22431328,\n",
       "        13.68032408]),\n",
       " <a list of 30 Patch objects>)"
      ]
     },
     "execution_count": 120,
     "metadata": {},
     "output_type": "execute_result"
    },
    {
     "data": {
      "image/png": "[encoded data removed]",
      "text/plain": [
       "<Figure size 432x288 with 1 Axes>"
      ]
     },
     "metadata": {
      "needs_background": "light"
     },
     "output_type": "display_data"
    }
   ],
   "source": [
    "plt.hist(np.log1p(df['PAY_AMT1']),bins=30)"
   ]
  },
  {
   "cell_type": "code",
   "execution_count": 121,
   "metadata": {
    "collapsed": true
   },
   "outputs": [
    {
     "data": {
      "text/plain": [
       "(array([5.396e+03, 1.500e+01, 3.800e+01, 3.600e+01, 3.500e+01, 4.700e+01,\n",
       "        3.500e+01, 3.000e+01, 1.500e+01, 6.900e+01, 1.250e+02, 2.380e+02,\n",
       "        7.620e+02, 6.090e+02, 2.378e+03, 5.501e+03, 4.135e+03, 3.854e+03,\n",
       "        2.669e+03, 1.916e+03, 9.650e+02, 4.640e+02, 2.690e+02, 1.760e+02,\n",
       "        1.310e+02, 5.900e+01, 2.700e+01, 2.000e+00, 1.000e+00, 3.000e+00]),\n",
       " array([ 0.        ,  0.47789456,  0.95578912,  1.43368369,  1.91157825,\n",
       "         2.38947281,  2.86736737,  3.34526193,  3.82315649,  4.30105106,\n",
       "         4.77894562,  5.25684018,  5.73473474,  6.2126293 ,  6.69052387,\n",
       "         7.16841843,  7.64631299,  8.12420755,  8.60210211,  9.07999668,\n",
       "         9.55789124, 10.0357858 , 10.51368036, 10.99157492, 11.46946948,\n",
       "        11.94736405, 12.42525861, 12.90315317, 13.38104773, 13.85894229,\n",
       "        14.33683686]),\n",
       " <a list of 30 Patch objects>)"
      ]
     },
     "execution_count": 121,
     "metadata": {},
     "output_type": "execute_result"
    },
    {
     "data": {
      "image/png": "[encoded data removed]",
      "text/plain": [
       "<Figure size 432x288 with 1 Axes>"
      ]
     },
     "metadata": {
      "needs_background": "light"
     },
     "output_type": "display_data"
    }
   ],
   "source": [
    "plt.hist(np.log1p(df['PAY_AMT2']),bins=30)"
   ]
  },
  {
   "cell_type": "code",
   "execution_count": 122,
   "metadata": {
    "collapsed": true
   },
   "outputs": [
    {
     "data": {
      "text/plain": [
       "(array([6.408e+03, 2.200e+01, 2.200e+01, 3.300e+01, 4.600e+01, 3.900e+01,\n",
       "        4.400e+01, 3.700e+01, 5.600e+01, 6.900e+01, 1.540e+02, 2.910e+02,\n",
       "        5.130e+02, 1.321e+03, 1.482e+03, 3.420e+03, 2.375e+03, 3.380e+03,\n",
       "        3.450e+03, 2.969e+03, 1.680e+03, 7.950e+02, 5.100e+02, 3.510e+02,\n",
       "        2.330e+02, 1.670e+02, 8.000e+01, 3.700e+01, 1.100e+01, 5.000e+00]),\n",
       " array([ 0.        ,  0.44463627,  0.88927253,  1.3339088 ,  1.77854506,\n",
       "         2.22318133,  2.66781759,  3.11245386,  3.55709013,  4.00172639,\n",
       "         4.44636266,  4.89099892,  5.33563519,  5.78027145,  6.22490772,\n",
       "         6.66954399,  7.11418025,  7.55881652,  8.00345278,  8.44808905,\n",
       "         8.89272531,  9.33736158,  9.78199785, 10.22663411, 10.67127038,\n",
       "        11.11590664, 11.56054291, 12.00517917, 12.44981544, 12.89445171,\n",
       "        13.33908797]),\n",
       " <a list of 30 Patch objects>)"
      ]
     },
     "execution_count": 122,
     "metadata": {},
     "output_type": "execute_result"
    },
    {
     "data": {
      "image/png": "[encoded data removed]",
      "text/plain": [
       "<Figure size 432x288 with 1 Axes>"
      ]
     },
     "metadata": {
      "needs_background": "light"
     },
     "output_type": "display_data"
    }
   ],
   "source": [
    "plt.hist(np.log1p(df['PAY_AMT4']),bins=30)"
   ]
  },
  {
   "cell_type": "code",
   "execution_count": 123,
   "metadata": {
    "collapsed": true
   },
   "outputs": [
    {
     "data": {
      "text/plain": [
       "(array([5.968e+03, 1.300e+01, 1.900e+01, 4.700e+01, 4.200e+01, 4.700e+01,\n",
       "        3.400e+01, 4.400e+01, 4.600e+01, 5.200e+01, 1.370e+02, 2.560e+02,\n",
       "        5.740e+02, 1.012e+03, 1.260e+03, 3.723e+03, 4.468e+03, 3.476e+03,\n",
       "        3.252e+03, 2.174e+03, 1.488e+03, 8.360e+02, 3.980e+02, 2.680e+02,\n",
       "        1.560e+02, 1.270e+02, 5.600e+01, 1.900e+01, 6.000e+00, 2.000e+00]),\n",
       " array([ 0.        ,  0.45685805,  0.9137161 ,  1.37057414,  1.82743219,\n",
       "         2.28429024,  2.74114829,  3.19800634,  3.65486439,  4.11172243,\n",
       "         4.56858048,  5.02543853,  5.48229658,  5.93915463,  6.39601268,\n",
       "         6.85287072,  7.30972877,  7.76658682,  8.22344487,  8.68030292,\n",
       "         9.13716097,  9.59401901, 10.05087706, 10.50773511, 10.96459316,\n",
       "        11.42145121, 11.87830926, 12.3351673 , 12.79202535, 13.2488834 ,\n",
       "        13.70574145]),\n",
       " <a list of 30 Patch objects>)"
      ]
     },
     "execution_count": 123,
     "metadata": {},
     "output_type": "execute_result"
    },
    {
     "data": {
      "image/png": "[encoded data removed]",
      "text/plain": [
       "<Figure size 432x288 with 1 Axes>"
      ]
     },
     "metadata": {
      "needs_background": "light"
     },
     "output_type": "display_data"
    }
   ],
   "source": [
    "plt.hist(np.log1p(df['PAY_AMT3']),bins=30)"
   ]
  },
  {
   "cell_type": "code",
   "execution_count": 124,
   "metadata": {
    "collapsed": true
   },
   "outputs": [
    {
     "data": {
      "text/plain": [
       "(array([6703.,   21.,   13.,   25.,   25.,   30.,   30.,   38.,   33.,\n",
       "          42.,  104.,  206.,  287., 1053., 1177., 2978., 2410., 3353.,\n",
       "        3205., 3144., 1890., 1384.,  751.,  401.,  250.,  185.,  153.,\n",
       "          64.,   29.,   16.]),\n",
       " array([ 0.        ,  0.4321146 ,  0.8642292 ,  1.2963438 ,  1.7284584 ,\n",
       "         2.160573  ,  2.5926876 ,  3.0248022 ,  3.4569168 ,  3.8890314 ,\n",
       "         4.32114599,  4.75326059,  5.18537519,  5.61748979,  6.04960439,\n",
       "         6.48171899,  6.91383359,  7.34594819,  7.77806279,  8.21017739,\n",
       "         8.64229199,  9.07440659,  9.50652119,  9.93863579, 10.37075039,\n",
       "        10.80286499, 11.23497959, 11.66709419, 12.09920878, 12.53132338,\n",
       "        12.96343798]),\n",
       " <a list of 30 Patch objects>)"
      ]
     },
     "execution_count": 124,
     "metadata": {},
     "output_type": "execute_result"
    },
    {
     "data": {
      "image/png": "[encoded data removed]",
      "text/plain": [
       "<Figure size 432x288 with 1 Axes>"
      ]
     },
     "metadata": {
      "needs_background": "light"
     },
     "output_type": "display_data"
    }
   ],
   "source": [
    "plt.hist(np.log1p(df['PAY_AMT5']),bins=30)"
   ]
  },
  {
   "cell_type": "code",
   "execution_count": 125,
   "metadata": {
    "collapsed": true
   },
   "outputs": [
    {
     "data": {
      "text/plain": [
       "(array([7173.,   20.,    9.,   26.,   18.,   24.,   28.,   25.,   24.,\n",
       "          45.,  121.,  202.,  435.,  980., 1480., 3024., 2284., 3423.,\n",
       "        3439., 2925., 1823.,  838.,  564.,  367.,  265.,  174.,  135.,\n",
       "          96.,   24.,    9.]),\n",
       " array([ 0.        ,  0.43927047,  0.87854093,  1.3178114 ,  1.75708187,\n",
       "         2.19635234,  2.6356228 ,  3.07489327,  3.51416374,  3.95343421,\n",
       "         4.39270467,  4.83197514,  5.27124561,  5.71051608,  6.14978654,\n",
       "         6.58905701,  7.02832748,  7.46759795,  7.90686841,  8.34613888,\n",
       "         8.78540935,  9.22467982,  9.66395028, 10.10322075, 10.54249122,\n",
       "        10.98176169, 11.42103215, 11.86030262, 12.29957309, 12.73884356,\n",
       "        13.17811402]),\n",
       " <a list of 30 Patch objects>)"
      ]
     },
     "execution_count": 125,
     "metadata": {},
     "output_type": "execute_result"
    },
    {
     "data": {
      "image/png": "[encoded data removed]",
      "text/plain": [
       "<Figure size 432x288 with 1 Axes>"
      ]
     },
     "metadata": {
      "needs_background": "light"
     },
     "output_type": "display_data"
    }
   ],
   "source": [
    "plt.hist(np.log1p(df['PAY_AMT6']),bins=30)"
   ]
  },
  {
   "cell_type": "code",
   "execution_count": null,
   "metadata": {},
   "outputs": [],
   "source": []
  }
 ],
 "metadata": {
  "kernelspec": {
   "display_name": "Python 3",
   "language": "python",
   "name": "python3"
  },
  "language_info": {
   "codemirror_mode": {
    "name": "ipython",
    "version": 3
   },
   "file_extension": ".py",
   "mimetype": "text/x-python",
   "name": "python",
   "nbconvert_exporter": "python",
   "pygments_lexer": "ipython3",
   "version": "3.7.3"
  }
 },
 "nbformat": 4,
 "nbformat_minor": 2
}
